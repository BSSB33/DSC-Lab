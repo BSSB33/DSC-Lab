{
 "metadata": {
  "language_info": {
   "codemirror_mode": {
    "name": "ipython",
    "version": 3
   },
   "file_extension": ".py",
   "mimetype": "text/x-python",
   "name": "python",
   "nbconvert_exporter": "python",
   "pygments_lexer": "ipython3",
   "version": "3.8.8-final"
  },
  "orig_nbformat": 2,
  "kernelspec": {
   "name": "python388jvsc74a57bd02c829f9b014f45ac51ac6981ee268f80d78860744c6a50c09e5b990310b7d8d4",
   "display_name": "Python 3.8.8 64-bit"
  },
  "metadata": {
   "interpreter": {
    "hash": "2c829f9b014f45ac51ac6981ee268f80d78860744c6a50c09e5b990310b7d8d4"
   }
  }
 },
 "nbformat": 4,
 "nbformat_minor": 2,
 "cells": [
  {
   "cell_type": "code",
   "execution_count": 13,
   "metadata": {},
   "outputs": [],
   "source": [
    "import numpy as np\n",
    "import matplotlib.pyplot as plt\n",
    "import pandas as pd\n",
    "from collections import Counter\n",
    "from numpy import mean\n",
    "from numpy import std\n",
    "from pandas import read_csv\n",
    "from sklearn.preprocessing import LabelEncoder\n",
    "from sklearn.model_selection import cross_val_score\n",
    "from sklearn.model_selection import RepeatedStratifiedKFold\n",
    "from sklearn.dummy import DummyClassifier\n",
    "from sklearn.svm import SVC\n",
    "from sklearn.neighbors import KNeighborsClassifier\n",
    "from sklearn.ensemble import RandomForestClassifier\n",
    "from sklearn.ensemble import ExtraTreesClassifier\n",
    "from sklearn.ensemble import BaggingClassifier"
   ]
  },
  {
   "cell_type": "code",
   "execution_count": 14,
   "metadata": {},
   "outputs": [
    {
     "output_type": "execute_result",
     "data": {
      "text/plain": [
       "          RI          Na        Mg            Al         Si        K  \\\n",
       "0  151588824  1287795.00  343036.0  140066.00000   73282.00  0.68931   \n",
       "1   15176423   129777.00  353812.0  121127.00000   73002.00  0.65205   \n",
       "2  152212996  1420795.00  382099.0       0.46976      71.77  0.11178   \n",
       "3  152222108  1321045.00   37716.0       0.79076  719884.00  0.13041   \n",
       "4  151755118       13.39  365935.0   11888.00000  727892.00  0.57132   \n",
       "5  152099096  1368925.00    3592.0  112139.00000  719604.00  0.08694   \n",
       "6  151755118   131506.00  360996.0  105077.00000  732372.00  0.57132   \n",
       "7  151910022  1390205.00  373119.0  117917.00000  721228.00  0.06210   \n",
       "8  151793844  1321045.00  347975.0  141029.00000   72638.00  0.58995   \n",
       "9  151898632  1358285.00  334954.0  123053.00000   72078.00  0.58995   \n",
       "\n",
       "         Ca   Ba      Fe  Y  \n",
       "0  804468.0  0.0  0.1224  0  \n",
       "1  852888.0  0.0  0.0000  0  \n",
       "2   95726.0  0.0  0.0000  0  \n",
       "3  102452.0  0.0  0.0000  0  \n",
       "4  827064.0  0.0  0.0561  0  \n",
       "5  940044.0  0.0  0.0000  0  \n",
       "6  823836.0  0.0  0.0000  0  \n",
       "7  889472.0  0.0  0.0000  0  \n",
       "8  843204.0  0.0  0.0000  0  \n",
       "9  890548.0  0.0  0.0000  0  "
      ],
      "text/html": "<div>\n<style scoped>\n    .dataframe tbody tr th:only-of-type {\n        vertical-align: middle;\n    }\n\n    .dataframe tbody tr th {\n        vertical-align: top;\n    }\n\n    .dataframe thead th {\n        text-align: right;\n    }\n</style>\n<table border=\"1\" class=\"dataframe\">\n  <thead>\n    <tr style=\"text-align: right;\">\n      <th></th>\n      <th>RI</th>\n      <th>Na</th>\n      <th>Mg</th>\n      <th>Al</th>\n      <th>Si</th>\n      <th>K</th>\n      <th>Ca</th>\n      <th>Ba</th>\n      <th>Fe</th>\n      <th>Y</th>\n    </tr>\n  </thead>\n  <tbody>\n    <tr>\n      <th>0</th>\n      <td>151588824</td>\n      <td>1287795.00</td>\n      <td>343036.0</td>\n      <td>140066.00000</td>\n      <td>73282.00</td>\n      <td>0.68931</td>\n      <td>804468.0</td>\n      <td>0.0</td>\n      <td>0.1224</td>\n      <td>0</td>\n    </tr>\n    <tr>\n      <th>1</th>\n      <td>15176423</td>\n      <td>129777.00</td>\n      <td>353812.0</td>\n      <td>121127.00000</td>\n      <td>73002.00</td>\n      <td>0.65205</td>\n      <td>852888.0</td>\n      <td>0.0</td>\n      <td>0.0000</td>\n      <td>0</td>\n    </tr>\n    <tr>\n      <th>2</th>\n      <td>152212996</td>\n      <td>1420795.00</td>\n      <td>382099.0</td>\n      <td>0.46976</td>\n      <td>71.77</td>\n      <td>0.11178</td>\n      <td>95726.0</td>\n      <td>0.0</td>\n      <td>0.0000</td>\n      <td>0</td>\n    </tr>\n    <tr>\n      <th>3</th>\n      <td>152222108</td>\n      <td>1321045.00</td>\n      <td>37716.0</td>\n      <td>0.79076</td>\n      <td>719884.00</td>\n      <td>0.13041</td>\n      <td>102452.0</td>\n      <td>0.0</td>\n      <td>0.0000</td>\n      <td>0</td>\n    </tr>\n    <tr>\n      <th>4</th>\n      <td>151755118</td>\n      <td>13.39</td>\n      <td>365935.0</td>\n      <td>11888.00000</td>\n      <td>727892.00</td>\n      <td>0.57132</td>\n      <td>827064.0</td>\n      <td>0.0</td>\n      <td>0.0561</td>\n      <td>0</td>\n    </tr>\n    <tr>\n      <th>5</th>\n      <td>152099096</td>\n      <td>1368925.00</td>\n      <td>3592.0</td>\n      <td>112139.00000</td>\n      <td>719604.00</td>\n      <td>0.08694</td>\n      <td>940044.0</td>\n      <td>0.0</td>\n      <td>0.0000</td>\n      <td>0</td>\n    </tr>\n    <tr>\n      <th>6</th>\n      <td>151755118</td>\n      <td>131506.00</td>\n      <td>360996.0</td>\n      <td>105077.00000</td>\n      <td>732372.00</td>\n      <td>0.57132</td>\n      <td>823836.0</td>\n      <td>0.0</td>\n      <td>0.0000</td>\n      <td>0</td>\n    </tr>\n    <tr>\n      <th>7</th>\n      <td>151910022</td>\n      <td>1390205.00</td>\n      <td>373119.0</td>\n      <td>117917.00000</td>\n      <td>721228.00</td>\n      <td>0.06210</td>\n      <td>889472.0</td>\n      <td>0.0</td>\n      <td>0.0000</td>\n      <td>0</td>\n    </tr>\n    <tr>\n      <th>8</th>\n      <td>151793844</td>\n      <td>1321045.00</td>\n      <td>347975.0</td>\n      <td>141029.00000</td>\n      <td>72638.00</td>\n      <td>0.58995</td>\n      <td>843204.0</td>\n      <td>0.0</td>\n      <td>0.0000</td>\n      <td>0</td>\n    </tr>\n    <tr>\n      <th>9</th>\n      <td>151898632</td>\n      <td>1358285.00</td>\n      <td>334954.0</td>\n      <td>123053.00000</td>\n      <td>72078.00</td>\n      <td>0.58995</td>\n      <td>890548.0</td>\n      <td>0.0</td>\n      <td>0.0000</td>\n      <td>0</td>\n    </tr>\n  </tbody>\n</table>\n</div>"
     },
     "metadata": {},
     "execution_count": 14
    }
   ],
   "source": [
    "df = pd.read_csv(\"glass_binary.csv\")\n",
    "df = df.rename({'Class': 'Y'}, axis=1) \n",
    "df[\"Y\"].replace({'negative' : int(0), \"positive\" : int(1)}, inplace=True, regex=True)\n",
    "df.head(10)"
   ]
  },
  {
   "cell_type": "code",
   "execution_count": 15,
   "metadata": {},
   "outputs": [
    {
     "output_type": "stream",
     "name": "stdout",
     "text": [
      "(214, 10)\n"
     ]
    }
   ],
   "source": [
    "print(df.shape)\n",
    "y = df.values[:,-1].astype(int)\n",
    "X = df.drop(\"Y\", axis=1)"
   ]
  },
  {
   "cell_type": "code",
   "execution_count": 16,
   "metadata": {},
   "outputs": [
    {
     "output_type": "stream",
     "name": "stdout",
     "text": [
      "Class=0, Count=185, Percentage=86.449%\nClass=1, Count=29, Percentage=13.551%\n"
     ]
    }
   ],
   "source": [
    "from collections import Counter\n",
    "counter = Counter(y)\n",
    "for k,v in counter.items():\n",
    "\tper = v / len(y) * 100\n",
    "\tprint('Class=%d, Count=%d, Percentage=%.3f%%' % (k, v, per))"
   ]
  },
  {
   "cell_type": "code",
   "execution_count": 17,
   "metadata": {},
   "outputs": [
    {
     "output_type": "stream",
     "name": "stdout",
     "text": [
      "Mean Accuracy: 0.865 (0.008)\n"
     ]
    }
   ],
   "source": [
    "cv = RepeatedStratifiedKFold(n_splits=5, n_repeats=3, random_state=1)\n",
    "model = DummyClassifier(strategy='most_frequent')\n",
    "scores = cross_val_score(model, X, y, scoring='accuracy', cv=cv, n_jobs=-1)\n",
    "\n",
    "print('Mean Accuracy: %.3f (%.3f)' % (mean(scores), std(scores)))"
   ]
  },
  {
   "cell_type": "code",
   "execution_count": 18,
   "metadata": {},
   "outputs": [
    {
     "output_type": "stream",
     "name": "stdout",
     "text": [
      "160\n54\n"
     ]
    }
   ],
   "source": [
    "from sklearn.model_selection import train_test_split\n",
    "X_train, X_test, y_train, y_test = train_test_split(X, y, test_size = 0.25, random_state = 0)\n",
    "print(len(X_train))\n",
    "print(len(X_test))"
   ]
  },
  {
   "cell_type": "code",
   "execution_count": 21,
   "metadata": {},
   "outputs": [],
   "source": [
    "from sklearn.preprocessing import StandardScaler\n",
    "sc = StandardScaler()\n",
    "X_train = sc.fit_transform(X_train)\n",
    "X_test = sc.transform(X_test)"
   ]
  },
  {
   "cell_type": "code",
   "execution_count": 22,
   "metadata": {},
   "outputs": [
    {
     "output_type": "stream",
     "name": "stdout",
     "text": [
      ">DUM 0.871 (0.043)\n",
      ">SVM 0.877 (0.053)\n",
      ">KNN 0.890 (0.049)\n",
      ">BAG 0.982 (0.036)\n",
      "> RF 0.982 (0.036)\n",
      "> ET 0.994 (0.023)\n"
     ]
    }
   ],
   "source": [
    "def evaluate_model(X_train, y_train, X_test, y_test, model):\n",
    "\tcv = RepeatedStratifiedKFold(n_splits=5, n_repeats=3, random_state=1)\n",
    "\tmodel.fit(X_train, y_train)\n",
    "\treturn cross_val_score(model, X_test, y_test, scoring='accuracy', cv=cv, n_jobs=-1)\n",
    "\n",
    "models, names = list(), list()\n",
    "# Dummy\n",
    "models.append(DummyClassifier(strategy='most_frequent'))\n",
    "names.append('DUM')\n",
    "# SVM\n",
    "models.append(SVC(gamma='auto'))\n",
    "names.append('SVM')\n",
    "# KNN\n",
    "models.append(KNeighborsClassifier())\n",
    "names.append('KNN')\n",
    "# Bagging\n",
    "models.append(BaggingClassifier(n_estimators=100))\n",
    "names.append('BAG')\n",
    "# RF\n",
    "models.append(RandomForestClassifier(n_estimators=100))\n",
    "names.append(' RF')\n",
    "# ET\n",
    "models.append(ExtraTreesClassifier(n_estimators=100))\n",
    "names.append(' ET')\n",
    "\n",
    "results = list()\n",
    "for i in range(len(models)):\n",
    "\tscores = evaluate_model(X_train, y_train, X_test, y_test, models[i])\n",
    "\tresults.append(scores)\n",
    "\tprint('>%s %.3f (%.3f)' % (names[i], scores.mean(), scores.std()))"
   ]
  },
  {
   "source": [
    "## ToDo\n",
    "#### Feature Selection\n",
    "#### Clustering"
   ],
   "cell_type": "markdown",
   "metadata": {}
  }
 ]
}