{
 "metadata": {
  "language_info": {
   "codemirror_mode": {
    "name": "ipython",
    "version": 3
   },
   "file_extension": ".py",
   "mimetype": "text/x-python",
   "name": "python",
   "nbconvert_exporter": "python",
   "pygments_lexer": "ipython3",
   "version": "3.8.8"
  },
  "orig_nbformat": 2,
  "kernelspec": {
   "name": "python388jvsc74a57bd02c829f9b014f45ac51ac6981ee268f80d78860744c6a50c09e5b990310b7d8d4",
   "display_name": "Python 3.8.8 64-bit"
  },
  "metadata": {
   "interpreter": {
    "hash": "2c829f9b014f45ac51ac6981ee268f80d78860744c6a50c09e5b990310b7d8d4"
   }
  }
 },
 "nbformat": 4,
 "nbformat_minor": 2,
 "cells": [
  {
   "cell_type": "code",
   "execution_count": 2,
   "metadata": {},
   "outputs": [],
   "source": [
    "import numpy as np\n",
    "import matplotlib.pyplot as plt\n",
    "import pandas as pd\n",
    "from collections import Counter\n",
    "from numpy import mean\n",
    "from numpy import std\n",
    "from pandas import read_csv\n",
    "from sklearn.preprocessing import LabelEncoder\n",
    "from sklearn.model_selection import cross_val_score\n",
    "from sklearn.model_selection import RepeatedStratifiedKFold\n",
    "from sklearn.dummy import DummyClassifier\n",
    "from sklearn.svm import SVC\n",
    "from sklearn.neighbors import KNeighborsClassifier\n",
    "from sklearn.ensemble import RandomForestClassifier\n",
    "from sklearn.ensemble import ExtraTreesClassifier\n",
    "from sklearn.ensemble import BaggingClassifier\n",
    "from sklearn.preprocessing import StandardScaler\n",
    "from sklearn.preprocessing import MinMaxScaler\n",
    "from sklearn.feature_selection import SelectKBest,chi2,RFE\n",
    "from sklearn.ensemble import RandomForestClassifier"
   ]
  },
  {
   "source": [
    "### Import & Preprocessing"
   ],
   "cell_type": "markdown",
   "metadata": {}
  },
  {
   "cell_type": "code",
   "execution_count": 3,
   "metadata": {},
   "outputs": [
    {
     "output_type": "execute_result",
     "data": {
      "text/plain": [
       "   Age  Sex  Chest pain type   BP  Cholesterol  FBS over 120  EKG results  \\\n",
       "0   70    1                4  130          322             0            2   \n",
       "1   67    0                3  115          564             0            2   \n",
       "2   57    1                2  124          261             0            0   \n",
       "3   64    1                4  128          263             0            0   \n",
       "4   74    0                2  120          269             0            2   \n",
       "5   65    1                4  120          177             0            0   \n",
       "6   56    1                3  130          256             1            2   \n",
       "7   59    1                4  110          239             0            2   \n",
       "8   60    1                4  140          293             0            2   \n",
       "9   63    0                4  150          407             0            2   \n",
       "\n",
       "   Max HR  Exercise angina  ST depression  Slope of ST  \\\n",
       "0     109                0            2.4            2   \n",
       "1     160                0            1.6            2   \n",
       "2     141                0            0.3            1   \n",
       "3     105                1            0.2            2   \n",
       "4     121                1            0.2            1   \n",
       "5     140                0            0.4            1   \n",
       "6     142                1            0.6            2   \n",
       "7     142                1            1.2            2   \n",
       "8     170                0            1.2            2   \n",
       "9     154                0            4.0            2   \n",
       "\n",
       "   Number of vessels fluro  Thallium  Y  \n",
       "0                        3         3  1  \n",
       "1                        0         7  0  \n",
       "2                        0         7  1  \n",
       "3                        1         7  0  \n",
       "4                        1         3  0  \n",
       "5                        0         7  0  \n",
       "6                        1         6  1  \n",
       "7                        1         7  1  \n",
       "8                        2         7  1  \n",
       "9                        3         7  1  "
      ],
      "text/html": "<div>\n<style scoped>\n    .dataframe tbody tr th:only-of-type {\n        vertical-align: middle;\n    }\n\n    .dataframe tbody tr th {\n        vertical-align: top;\n    }\n\n    .dataframe thead th {\n        text-align: right;\n    }\n</style>\n<table border=\"1\" class=\"dataframe\">\n  <thead>\n    <tr style=\"text-align: right;\">\n      <th></th>\n      <th>Age</th>\n      <th>Sex</th>\n      <th>Chest pain type</th>\n      <th>BP</th>\n      <th>Cholesterol</th>\n      <th>FBS over 120</th>\n      <th>EKG results</th>\n      <th>Max HR</th>\n      <th>Exercise angina</th>\n      <th>ST depression</th>\n      <th>Slope of ST</th>\n      <th>Number of vessels fluro</th>\n      <th>Thallium</th>\n      <th>Y</th>\n    </tr>\n  </thead>\n  <tbody>\n    <tr>\n      <th>0</th>\n      <td>70</td>\n      <td>1</td>\n      <td>4</td>\n      <td>130</td>\n      <td>322</td>\n      <td>0</td>\n      <td>2</td>\n      <td>109</td>\n      <td>0</td>\n      <td>2.4</td>\n      <td>2</td>\n      <td>3</td>\n      <td>3</td>\n      <td>1</td>\n    </tr>\n    <tr>\n      <th>1</th>\n      <td>67</td>\n      <td>0</td>\n      <td>3</td>\n      <td>115</td>\n      <td>564</td>\n      <td>0</td>\n      <td>2</td>\n      <td>160</td>\n      <td>0</td>\n      <td>1.6</td>\n      <td>2</td>\n      <td>0</td>\n      <td>7</td>\n      <td>0</td>\n    </tr>\n    <tr>\n      <th>2</th>\n      <td>57</td>\n      <td>1</td>\n      <td>2</td>\n      <td>124</td>\n      <td>261</td>\n      <td>0</td>\n      <td>0</td>\n      <td>141</td>\n      <td>0</td>\n      <td>0.3</td>\n      <td>1</td>\n      <td>0</td>\n      <td>7</td>\n      <td>1</td>\n    </tr>\n    <tr>\n      <th>3</th>\n      <td>64</td>\n      <td>1</td>\n      <td>4</td>\n      <td>128</td>\n      <td>263</td>\n      <td>0</td>\n      <td>0</td>\n      <td>105</td>\n      <td>1</td>\n      <td>0.2</td>\n      <td>2</td>\n      <td>1</td>\n      <td>7</td>\n      <td>0</td>\n    </tr>\n    <tr>\n      <th>4</th>\n      <td>74</td>\n      <td>0</td>\n      <td>2</td>\n      <td>120</td>\n      <td>269</td>\n      <td>0</td>\n      <td>2</td>\n      <td>121</td>\n      <td>1</td>\n      <td>0.2</td>\n      <td>1</td>\n      <td>1</td>\n      <td>3</td>\n      <td>0</td>\n    </tr>\n    <tr>\n      <th>5</th>\n      <td>65</td>\n      <td>1</td>\n      <td>4</td>\n      <td>120</td>\n      <td>177</td>\n      <td>0</td>\n      <td>0</td>\n      <td>140</td>\n      <td>0</td>\n      <td>0.4</td>\n      <td>1</td>\n      <td>0</td>\n      <td>7</td>\n      <td>0</td>\n    </tr>\n    <tr>\n      <th>6</th>\n      <td>56</td>\n      <td>1</td>\n      <td>3</td>\n      <td>130</td>\n      <td>256</td>\n      <td>1</td>\n      <td>2</td>\n      <td>142</td>\n      <td>1</td>\n      <td>0.6</td>\n      <td>2</td>\n      <td>1</td>\n      <td>6</td>\n      <td>1</td>\n    </tr>\n    <tr>\n      <th>7</th>\n      <td>59</td>\n      <td>1</td>\n      <td>4</td>\n      <td>110</td>\n      <td>239</td>\n      <td>0</td>\n      <td>2</td>\n      <td>142</td>\n      <td>1</td>\n      <td>1.2</td>\n      <td>2</td>\n      <td>1</td>\n      <td>7</td>\n      <td>1</td>\n    </tr>\n    <tr>\n      <th>8</th>\n      <td>60</td>\n      <td>1</td>\n      <td>4</td>\n      <td>140</td>\n      <td>293</td>\n      <td>0</td>\n      <td>2</td>\n      <td>170</td>\n      <td>0</td>\n      <td>1.2</td>\n      <td>2</td>\n      <td>2</td>\n      <td>7</td>\n      <td>1</td>\n    </tr>\n    <tr>\n      <th>9</th>\n      <td>63</td>\n      <td>0</td>\n      <td>4</td>\n      <td>150</td>\n      <td>407</td>\n      <td>0</td>\n      <td>2</td>\n      <td>154</td>\n      <td>0</td>\n      <td>4.0</td>\n      <td>2</td>\n      <td>3</td>\n      <td>7</td>\n      <td>1</td>\n    </tr>\n  </tbody>\n</table>\n</div>"
     },
     "metadata": {},
     "execution_count": 3
    }
   ],
   "source": [
    "df = pd.read_csv(\"heart_disease_prediction.csv\")\n",
    "df = df.rename({'Heart Disease': 'Y'}, axis=1) \n",
    "df[\"Y\"].replace({'Absence' : int(0), \"Presence\" : int(1)}, inplace=True, regex=True)\n",
    "df.head(10)"
   ]
  },
  {
   "cell_type": "code",
   "execution_count": 4,
   "metadata": {},
   "outputs": [],
   "source": [
    "y = df.values[:,-1].astype(int)\n",
    "X = df.drop(\"Y\", axis=1)"
   ]
  },
  {
   "source": [
    "### Feature selection & Feature Examination"
   ],
   "cell_type": "markdown",
   "metadata": {}
  },
  {
   "cell_type": "code",
   "execution_count": 5,
   "metadata": {},
   "outputs": [],
   "source": [
    "scaler = MinMaxScaler()\n",
    "df_norm = X\n",
    "df_norm[list(X)] = scaler.fit_transform(df[list(X)])"
   ]
  },
  {
   "cell_type": "code",
   "execution_count": 6,
   "metadata": {},
   "outputs": [],
   "source": [
    "rfe = RFE(estimator=RandomForestClassifier(), n_features_to_select=5)\n",
    "X_new = rfe.fit_transform(df_norm, y)"
   ]
  },
  {
   "cell_type": "code",
   "execution_count": 7,
   "metadata": {},
   "outputs": [
    {
     "output_type": "execute_result",
     "data": {
      "text/plain": [
       "([0, 1, 2, 3, 4, 5, 6, 7, 8, 9, 10, 11, 12],\n",
       " [Text(0, 0, ''),\n",
       "  Text(0, 0, ''),\n",
       "  Text(0, 0, ''),\n",
       "  Text(0, 0, ''),\n",
       "  Text(0, 0, ''),\n",
       "  Text(0, 0, ''),\n",
       "  Text(0, 0, ''),\n",
       "  Text(0, 0, ''),\n",
       "  Text(0, 0, ''),\n",
       "  Text(0, 0, ''),\n",
       "  Text(0, 0, ''),\n",
       "  Text(0, 0, ''),\n",
       "  Text(0, 0, '')])"
      ]
     },
     "metadata": {},
     "execution_count": 7
    },
    {
     "output_type": "display_data",
     "data": {
      "text/plain": "<Figure size 720x720 with 1 Axes>",
      "image/svg+xml": "<?xml version=\"1.0\" encoding=\"utf-8\" standalone=\"no\"?>\r\n<!DOCTYPE svg PUBLIC \"-//W3C//DTD SVG 1.1//EN\"\r\n  \"http://www.w3.org/Graphics/SVG/1.1/DTD/svg11.dtd\">\r\n<!-- Created with matplotlib (https://matplotlib.org/) -->\r\n<svg height=\"655.718485pt\" version=\"1.1\" viewBox=\"0 0 601.665625 655.718485\" width=\"601.665625pt\" xmlns=\"http://www.w3.org/2000/svg\" xmlns:xlink=\"http://www.w3.org/1999/xlink\">\r\n <metadata>\r\n  <rdf:RDF xmlns:cc=\"http://creativecommons.org/ns#\" xmlns:dc=\"http://purl.org/dc/elements/1.1/\" xmlns:rdf=\"http://www.w3.org/1999/02/22-rdf-syntax-ns#\">\r\n   <cc:Work>\r\n    <dc:type rdf:resource=\"http://purl.org/dc/dcmitype/StillImage\"/>\r\n    <dc:date>2021-05-03T13:55:32.776084</dc:date>\r\n    <dc:format>image/svg+xml</dc:format>\r\n    <dc:creator>\r\n     <cc:Agent>\r\n      <dc:title>Matplotlib v3.3.4, https://matplotlib.org/</dc:title>\r\n     </cc:Agent>\r\n    </dc:creator>\r\n   </cc:Work>\r\n  </rdf:RDF>\r\n </metadata>\r\n <defs>\r\n  <style type=\"text/css\">*{stroke-linecap:butt;stroke-linejoin:round;}</style>\r\n </defs>\r\n <g id=\"figure_1\">\r\n  <g id=\"patch_1\">\r\n   <path d=\"M 0 655.718485 \r\nL 601.665625 655.718485 \r\nL 601.665625 0 \r\nL 0 0 \r\nz\r\n\" style=\"fill:none;\"/>\r\n  </g>\r\n  <g id=\"axes_1\">\r\n   <g id=\"patch_2\">\r\n    <path d=\"M 36.465625 550.8 \r\nL 594.465625 550.8 \r\nL 594.465625 7.2 \r\nL 36.465625 7.2 \r\nz\r\n\" style=\"fill:#ffffff;\"/>\r\n   </g>\r\n   <g id=\"patch_3\">\r\n    <path clip-path=\"url(#p77cf22fa7c)\" d=\"M 61.829261 550.8 \r\nL 93.533807 550.8 \r\nL 93.533807 228.238924 \r\nL 61.829261 228.238924 \r\nz\r\n\" style=\"fill:#1f77b4;\"/>\r\n   </g>\r\n   <g id=\"patch_4\">\r\n    <path clip-path=\"url(#p77cf22fa7c)\" d=\"M 101.459943 550.8 \r\nL 133.164489 550.8 \r\nL 133.164489 407.403516 \r\nL 101.459943 407.403516 \r\nz\r\n\" style=\"fill:#1f77b4;\"/>\r\n   </g>\r\n   <g id=\"patch_5\">\r\n    <path clip-path=\"url(#p77cf22fa7c)\" d=\"M 141.090625 550.8 \r\nL 172.79517 550.8 \r\nL 172.79517 100.949797 \r\nL 141.090625 100.949797 \r\nz\r\n\" style=\"fill:#1f77b4;\"/>\r\n   </g>\r\n   <g id=\"patch_6\">\r\n    <path clip-path=\"url(#p77cf22fa7c)\" d=\"M 180.721307 550.8 \r\nL 212.425852 550.8 \r\nL 212.425852 239.946013 \r\nL 180.721307 239.946013 \r\nz\r\n\" style=\"fill:#1f77b4;\"/>\r\n   </g>\r\n   <g id=\"patch_7\">\r\n    <path clip-path=\"url(#p77cf22fa7c)\" d=\"M 220.351989 550.8 \r\nL 252.056534 550.8 \r\nL 252.056534 205.931672 \r\nL 220.351989 205.931672 \r\nz\r\n\" style=\"fill:#1f77b4;\"/>\r\n   </g>\r\n   <g id=\"patch_8\">\r\n    <path clip-path=\"url(#p77cf22fa7c)\" d=\"M 259.98267 550.8 \r\nL 291.687216 550.8 \r\nL 291.687216 509.507796 \r\nL 259.98267 509.507796 \r\nz\r\n\" style=\"fill:#1f77b4;\"/>\r\n   </g>\r\n   <g id=\"patch_9\">\r\n    <path clip-path=\"url(#p77cf22fa7c)\" d=\"M 299.613352 550.8 \r\nL 331.317898 550.8 \r\nL 331.317898 467.576431 \r\nL 299.613352 467.576431 \r\nz\r\n\" style=\"fill:#1f77b4;\"/>\r\n   </g>\r\n   <g id=\"patch_10\">\r\n    <path clip-path=\"url(#p77cf22fa7c)\" d=\"M 339.244034 550.8 \r\nL 370.94858 550.8 \r\nL 370.94858 95.108374 \r\nL 339.244034 95.108374 \r\nz\r\n\" style=\"fill:#1f77b4;\"/>\r\n   </g>\r\n   <g id=\"patch_11\">\r\n    <path clip-path=\"url(#p77cf22fa7c)\" d=\"M 378.874716 550.8 \r\nL 410.579261 550.8 \r\nL 410.579261 306.553991 \r\nL 378.874716 306.553991 \r\nz\r\n\" style=\"fill:#1f77b4;\"/>\r\n   </g>\r\n   <g id=\"patch_12\">\r\n    <path clip-path=\"url(#p77cf22fa7c)\" d=\"M 418.505398 550.8 \r\nL 450.209943 550.8 \r\nL 450.209943 33.085714 \r\nL 418.505398 33.085714 \r\nz\r\n\" style=\"fill:#1f77b4;\"/>\r\n   </g>\r\n   <g id=\"patch_13\">\r\n    <path clip-path=\"url(#p77cf22fa7c)\" d=\"M 458.13608 550.8 \r\nL 489.840625 550.8 \r\nL 489.840625 387.313344 \r\nL 458.13608 387.313344 \r\nz\r\n\" style=\"fill:#1f77b4;\"/>\r\n   </g>\r\n   <g id=\"patch_14\">\r\n    <path clip-path=\"url(#p77cf22fa7c)\" d=\"M 497.766761 550.8 \r\nL 529.471307 550.8 \r\nL 529.471307 66.805457 \r\nL 497.766761 66.805457 \r\nz\r\n\" style=\"fill:#1f77b4;\"/>\r\n   </g>\r\n   <g id=\"patch_15\">\r\n    <path clip-path=\"url(#p77cf22fa7c)\" d=\"M 537.397443 550.8 \r\nL 569.101989 550.8 \r\nL 569.101989 58.16105 \r\nL 537.397443 58.16105 \r\nz\r\n\" style=\"fill:#1f77b4;\"/>\r\n   </g>\r\n   <g id=\"matplotlib.axis_1\">\r\n    <g id=\"xtick_1\">\r\n     <g id=\"line2d_1\">\r\n      <defs>\r\n       <path d=\"M 0 0 \r\nL 0 3.5 \r\n\" id=\"m2a0c7a4dbf\" style=\"stroke:#000000;stroke-width:0.8;\"/>\r\n      </defs>\r\n      <g>\r\n       <use style=\"stroke:#000000;stroke-width:0.8;\" x=\"77.681534\" xlink:href=\"#m2a0c7a4dbf\" y=\"550.8\"/>\r\n      </g>\r\n     </g>\r\n     <g id=\"text_1\">\r\n      <!-- Age -->\r\n      <g transform=\"translate(72.794211 576.849899)rotate(-45)scale(0.1 -0.1)\">\r\n       <defs>\r\n        <path d=\"M 34.1875 63.1875 \r\nL 20.796875 26.90625 \r\nL 47.609375 26.90625 \r\nz\r\nM 28.609375 72.90625 \r\nL 39.796875 72.90625 \r\nL 67.578125 0 \r\nL 57.328125 0 \r\nL 50.6875 18.703125 \r\nL 17.828125 18.703125 \r\nL 11.1875 0 \r\nL 0.78125 0 \r\nz\r\n\" id=\"DejaVuSans-65\"/>\r\n        <path d=\"M 45.40625 27.984375 \r\nQ 45.40625 37.75 41.375 43.109375 \r\nQ 37.359375 48.484375 30.078125 48.484375 \r\nQ 22.859375 48.484375 18.828125 43.109375 \r\nQ 14.796875 37.75 14.796875 27.984375 \r\nQ 14.796875 18.265625 18.828125 12.890625 \r\nQ 22.859375 7.515625 30.078125 7.515625 \r\nQ 37.359375 7.515625 41.375 12.890625 \r\nQ 45.40625 18.265625 45.40625 27.984375 \r\nz\r\nM 54.390625 6.78125 \r\nQ 54.390625 -7.171875 48.1875 -13.984375 \r\nQ 42 -20.796875 29.203125 -20.796875 \r\nQ 24.46875 -20.796875 20.265625 -20.09375 \r\nQ 16.0625 -19.390625 12.109375 -17.921875 \r\nL 12.109375 -9.1875 \r\nQ 16.0625 -11.328125 19.921875 -12.34375 \r\nQ 23.78125 -13.375 27.78125 -13.375 \r\nQ 36.625 -13.375 41.015625 -8.765625 \r\nQ 45.40625 -4.15625 45.40625 5.171875 \r\nL 45.40625 9.625 \r\nQ 42.625 4.78125 38.28125 2.390625 \r\nQ 33.9375 0 27.875 0 \r\nQ 17.828125 0 11.671875 7.65625 \r\nQ 5.515625 15.328125 5.515625 27.984375 \r\nQ 5.515625 40.671875 11.671875 48.328125 \r\nQ 17.828125 56 27.875 56 \r\nQ 33.9375 56 38.28125 53.609375 \r\nQ 42.625 51.21875 45.40625 46.390625 \r\nL 45.40625 54.6875 \r\nL 54.390625 54.6875 \r\nz\r\n\" id=\"DejaVuSans-103\"/>\r\n        <path d=\"M 56.203125 29.59375 \r\nL 56.203125 25.203125 \r\nL 14.890625 25.203125 \r\nQ 15.484375 15.921875 20.484375 11.0625 \r\nQ 25.484375 6.203125 34.421875 6.203125 \r\nQ 39.59375 6.203125 44.453125 7.46875 \r\nQ 49.3125 8.734375 54.109375 11.28125 \r\nL 54.109375 2.78125 \r\nQ 49.265625 0.734375 44.1875 -0.34375 \r\nQ 39.109375 -1.421875 33.890625 -1.421875 \r\nQ 20.796875 -1.421875 13.15625 6.1875 \r\nQ 5.515625 13.8125 5.515625 26.8125 \r\nQ 5.515625 40.234375 12.765625 48.109375 \r\nQ 20.015625 56 32.328125 56 \r\nQ 43.359375 56 49.78125 48.890625 \r\nQ 56.203125 41.796875 56.203125 29.59375 \r\nz\r\nM 47.21875 32.234375 \r\nQ 47.125 39.59375 43.09375 43.984375 \r\nQ 39.0625 48.390625 32.421875 48.390625 \r\nQ 24.90625 48.390625 20.390625 44.140625 \r\nQ 15.875 39.890625 15.1875 32.171875 \r\nz\r\n\" id=\"DejaVuSans-101\"/>\r\n       </defs>\r\n       <use xlink:href=\"#DejaVuSans-65\"/>\r\n       <use x=\"68.408203\" xlink:href=\"#DejaVuSans-103\"/>\r\n       <use x=\"131.884766\" xlink:href=\"#DejaVuSans-101\"/>\r\n      </g>\r\n     </g>\r\n    </g>\r\n    <g id=\"xtick_2\">\r\n     <g id=\"line2d_2\">\r\n      <g>\r\n       <use style=\"stroke:#000000;stroke-width:0.8;\" x=\"117.312216\" xlink:href=\"#m2a0c7a4dbf\" y=\"550.8\"/>\r\n      </g>\r\n     </g>\r\n     <g id=\"text_2\">\r\n      <!-- Sex -->\r\n      <g transform=\"translate(112.812697 576.074291)rotate(-45)scale(0.1 -0.1)\">\r\n       <defs>\r\n        <path d=\"M 53.515625 70.515625 \r\nL 53.515625 60.890625 \r\nQ 47.90625 63.578125 42.921875 64.890625 \r\nQ 37.9375 66.21875 33.296875 66.21875 \r\nQ 25.25 66.21875 20.875 63.09375 \r\nQ 16.5 59.96875 16.5 54.203125 \r\nQ 16.5 49.359375 19.40625 46.890625 \r\nQ 22.3125 44.4375 30.421875 42.921875 \r\nL 36.375 41.703125 \r\nQ 47.40625 39.59375 52.65625 34.296875 \r\nQ 57.90625 29 57.90625 20.125 \r\nQ 57.90625 9.515625 50.796875 4.046875 \r\nQ 43.703125 -1.421875 29.984375 -1.421875 \r\nQ 24.8125 -1.421875 18.96875 -0.25 \r\nQ 13.140625 0.921875 6.890625 3.21875 \r\nL 6.890625 13.375 \r\nQ 12.890625 10.015625 18.65625 8.296875 \r\nQ 24.421875 6.59375 29.984375 6.59375 \r\nQ 38.421875 6.59375 43.015625 9.90625 \r\nQ 47.609375 13.234375 47.609375 19.390625 \r\nQ 47.609375 24.75 44.3125 27.78125 \r\nQ 41.015625 30.8125 33.5 32.328125 \r\nL 27.484375 33.5 \r\nQ 16.453125 35.6875 11.515625 40.375 \r\nQ 6.59375 45.0625 6.59375 53.421875 \r\nQ 6.59375 63.09375 13.40625 68.65625 \r\nQ 20.21875 74.21875 32.171875 74.21875 \r\nQ 37.3125 74.21875 42.625 73.28125 \r\nQ 47.953125 72.359375 53.515625 70.515625 \r\nz\r\n\" id=\"DejaVuSans-83\"/>\r\n        <path d=\"M 54.890625 54.6875 \r\nL 35.109375 28.078125 \r\nL 55.90625 0 \r\nL 45.3125 0 \r\nL 29.390625 21.484375 \r\nL 13.484375 0 \r\nL 2.875 0 \r\nL 24.125 28.609375 \r\nL 4.6875 54.6875 \r\nL 15.28125 54.6875 \r\nL 29.78125 35.203125 \r\nL 44.28125 54.6875 \r\nz\r\n\" id=\"DejaVuSans-120\"/>\r\n       </defs>\r\n       <use xlink:href=\"#DejaVuSans-83\"/>\r\n       <use x=\"63.476562\" xlink:href=\"#DejaVuSans-101\"/>\r\n       <use x=\"123.25\" xlink:href=\"#DejaVuSans-120\"/>\r\n      </g>\r\n     </g>\r\n    </g>\r\n    <g id=\"xtick_3\">\r\n     <g id=\"line2d_3\">\r\n      <g>\r\n       <use style=\"stroke:#000000;stroke-width:0.8;\" x=\"156.942898\" xlink:href=\"#m2a0c7a4dbf\" y=\"550.8\"/>\r\n      </g>\r\n     </g>\r\n     <g id=\"text_3\">\r\n      <!-- Chest pain type -->\r\n      <g transform=\"translate(131.00147 618.958107)rotate(-45)scale(0.1 -0.1)\">\r\n       <defs>\r\n        <path d=\"M 64.40625 67.28125 \r\nL 64.40625 56.890625 \r\nQ 59.421875 61.53125 53.78125 63.8125 \r\nQ 48.140625 66.109375 41.796875 66.109375 \r\nQ 29.296875 66.109375 22.65625 58.46875 \r\nQ 16.015625 50.828125 16.015625 36.375 \r\nQ 16.015625 21.96875 22.65625 14.328125 \r\nQ 29.296875 6.6875 41.796875 6.6875 \r\nQ 48.140625 6.6875 53.78125 8.984375 \r\nQ 59.421875 11.28125 64.40625 15.921875 \r\nL 64.40625 5.609375 \r\nQ 59.234375 2.09375 53.4375 0.328125 \r\nQ 47.65625 -1.421875 41.21875 -1.421875 \r\nQ 24.65625 -1.421875 15.125 8.703125 \r\nQ 5.609375 18.84375 5.609375 36.375 \r\nQ 5.609375 53.953125 15.125 64.078125 \r\nQ 24.65625 74.21875 41.21875 74.21875 \r\nQ 47.75 74.21875 53.53125 72.484375 \r\nQ 59.328125 70.75 64.40625 67.28125 \r\nz\r\n\" id=\"DejaVuSans-67\"/>\r\n        <path d=\"M 54.890625 33.015625 \r\nL 54.890625 0 \r\nL 45.90625 0 \r\nL 45.90625 32.71875 \r\nQ 45.90625 40.484375 42.875 44.328125 \r\nQ 39.84375 48.1875 33.796875 48.1875 \r\nQ 26.515625 48.1875 22.3125 43.546875 \r\nQ 18.109375 38.921875 18.109375 30.90625 \r\nL 18.109375 0 \r\nL 9.078125 0 \r\nL 9.078125 75.984375 \r\nL 18.109375 75.984375 \r\nL 18.109375 46.1875 \r\nQ 21.34375 51.125 25.703125 53.5625 \r\nQ 30.078125 56 35.796875 56 \r\nQ 45.21875 56 50.046875 50.171875 \r\nQ 54.890625 44.34375 54.890625 33.015625 \r\nz\r\n\" id=\"DejaVuSans-104\"/>\r\n        <path d=\"M 44.28125 53.078125 \r\nL 44.28125 44.578125 \r\nQ 40.484375 46.53125 36.375 47.5 \r\nQ 32.28125 48.484375 27.875 48.484375 \r\nQ 21.1875 48.484375 17.84375 46.4375 \r\nQ 14.5 44.390625 14.5 40.28125 \r\nQ 14.5 37.15625 16.890625 35.375 \r\nQ 19.28125 33.59375 26.515625 31.984375 \r\nL 29.59375 31.296875 \r\nQ 39.15625 29.25 43.1875 25.515625 \r\nQ 47.21875 21.78125 47.21875 15.09375 \r\nQ 47.21875 7.46875 41.1875 3.015625 \r\nQ 35.15625 -1.421875 24.609375 -1.421875 \r\nQ 20.21875 -1.421875 15.453125 -0.5625 \r\nQ 10.6875 0.296875 5.421875 2 \r\nL 5.421875 11.28125 \r\nQ 10.40625 8.6875 15.234375 7.390625 \r\nQ 20.0625 6.109375 24.8125 6.109375 \r\nQ 31.15625 6.109375 34.5625 8.28125 \r\nQ 37.984375 10.453125 37.984375 14.40625 \r\nQ 37.984375 18.0625 35.515625 20.015625 \r\nQ 33.0625 21.96875 24.703125 23.78125 \r\nL 21.578125 24.515625 \r\nQ 13.234375 26.265625 9.515625 29.90625 \r\nQ 5.8125 33.546875 5.8125 39.890625 \r\nQ 5.8125 47.609375 11.28125 51.796875 \r\nQ 16.75 56 26.8125 56 \r\nQ 31.78125 56 36.171875 55.265625 \r\nQ 40.578125 54.546875 44.28125 53.078125 \r\nz\r\n\" id=\"DejaVuSans-115\"/>\r\n        <path d=\"M 18.3125 70.21875 \r\nL 18.3125 54.6875 \r\nL 36.8125 54.6875 \r\nL 36.8125 47.703125 \r\nL 18.3125 47.703125 \r\nL 18.3125 18.015625 \r\nQ 18.3125 11.328125 20.140625 9.421875 \r\nQ 21.96875 7.515625 27.59375 7.515625 \r\nL 36.8125 7.515625 \r\nL 36.8125 0 \r\nL 27.59375 0 \r\nQ 17.1875 0 13.234375 3.875 \r\nQ 9.28125 7.765625 9.28125 18.015625 \r\nL 9.28125 47.703125 \r\nL 2.6875 47.703125 \r\nL 2.6875 54.6875 \r\nL 9.28125 54.6875 \r\nL 9.28125 70.21875 \r\nz\r\n\" id=\"DejaVuSans-116\"/>\r\n        <path id=\"DejaVuSans-32\"/>\r\n        <path d=\"M 18.109375 8.203125 \r\nL 18.109375 -20.796875 \r\nL 9.078125 -20.796875 \r\nL 9.078125 54.6875 \r\nL 18.109375 54.6875 \r\nL 18.109375 46.390625 \r\nQ 20.953125 51.265625 25.265625 53.625 \r\nQ 29.59375 56 35.59375 56 \r\nQ 45.5625 56 51.78125 48.09375 \r\nQ 58.015625 40.1875 58.015625 27.296875 \r\nQ 58.015625 14.40625 51.78125 6.484375 \r\nQ 45.5625 -1.421875 35.59375 -1.421875 \r\nQ 29.59375 -1.421875 25.265625 0.953125 \r\nQ 20.953125 3.328125 18.109375 8.203125 \r\nz\r\nM 48.6875 27.296875 \r\nQ 48.6875 37.203125 44.609375 42.84375 \r\nQ 40.53125 48.484375 33.40625 48.484375 \r\nQ 26.265625 48.484375 22.1875 42.84375 \r\nQ 18.109375 37.203125 18.109375 27.296875 \r\nQ 18.109375 17.390625 22.1875 11.75 \r\nQ 26.265625 6.109375 33.40625 6.109375 \r\nQ 40.53125 6.109375 44.609375 11.75 \r\nQ 48.6875 17.390625 48.6875 27.296875 \r\nz\r\n\" id=\"DejaVuSans-112\"/>\r\n        <path d=\"M 34.28125 27.484375 \r\nQ 23.390625 27.484375 19.1875 25 \r\nQ 14.984375 22.515625 14.984375 16.5 \r\nQ 14.984375 11.71875 18.140625 8.90625 \r\nQ 21.296875 6.109375 26.703125 6.109375 \r\nQ 34.1875 6.109375 38.703125 11.40625 \r\nQ 43.21875 16.703125 43.21875 25.484375 \r\nL 43.21875 27.484375 \r\nz\r\nM 52.203125 31.203125 \r\nL 52.203125 0 \r\nL 43.21875 0 \r\nL 43.21875 8.296875 \r\nQ 40.140625 3.328125 35.546875 0.953125 \r\nQ 30.953125 -1.421875 24.3125 -1.421875 \r\nQ 15.921875 -1.421875 10.953125 3.296875 \r\nQ 6 8.015625 6 15.921875 \r\nQ 6 25.140625 12.171875 29.828125 \r\nQ 18.359375 34.515625 30.609375 34.515625 \r\nL 43.21875 34.515625 \r\nL 43.21875 35.40625 \r\nQ 43.21875 41.609375 39.140625 45 \r\nQ 35.0625 48.390625 27.6875 48.390625 \r\nQ 23 48.390625 18.546875 47.265625 \r\nQ 14.109375 46.140625 10.015625 43.890625 \r\nL 10.015625 52.203125 \r\nQ 14.9375 54.109375 19.578125 55.046875 \r\nQ 24.21875 56 28.609375 56 \r\nQ 40.484375 56 46.34375 49.84375 \r\nQ 52.203125 43.703125 52.203125 31.203125 \r\nz\r\n\" id=\"DejaVuSans-97\"/>\r\n        <path d=\"M 9.421875 54.6875 \r\nL 18.40625 54.6875 \r\nL 18.40625 0 \r\nL 9.421875 0 \r\nz\r\nM 9.421875 75.984375 \r\nL 18.40625 75.984375 \r\nL 18.40625 64.59375 \r\nL 9.421875 64.59375 \r\nz\r\n\" id=\"DejaVuSans-105\"/>\r\n        <path d=\"M 54.890625 33.015625 \r\nL 54.890625 0 \r\nL 45.90625 0 \r\nL 45.90625 32.71875 \r\nQ 45.90625 40.484375 42.875 44.328125 \r\nQ 39.84375 48.1875 33.796875 48.1875 \r\nQ 26.515625 48.1875 22.3125 43.546875 \r\nQ 18.109375 38.921875 18.109375 30.90625 \r\nL 18.109375 0 \r\nL 9.078125 0 \r\nL 9.078125 54.6875 \r\nL 18.109375 54.6875 \r\nL 18.109375 46.1875 \r\nQ 21.34375 51.125 25.703125 53.5625 \r\nQ 30.078125 56 35.796875 56 \r\nQ 45.21875 56 50.046875 50.171875 \r\nQ 54.890625 44.34375 54.890625 33.015625 \r\nz\r\n\" id=\"DejaVuSans-110\"/>\r\n        <path d=\"M 32.171875 -5.078125 \r\nQ 28.375 -14.84375 24.75 -17.8125 \r\nQ 21.140625 -20.796875 15.09375 -20.796875 \r\nL 7.90625 -20.796875 \r\nL 7.90625 -13.28125 \r\nL 13.1875 -13.28125 \r\nQ 16.890625 -13.28125 18.9375 -11.515625 \r\nQ 21 -9.765625 23.484375 -3.21875 \r\nL 25.09375 0.875 \r\nL 2.984375 54.6875 \r\nL 12.5 54.6875 \r\nL 29.59375 11.921875 \r\nL 46.6875 54.6875 \r\nL 56.203125 54.6875 \r\nz\r\n\" id=\"DejaVuSans-121\"/>\r\n       </defs>\r\n       <use xlink:href=\"#DejaVuSans-67\"/>\r\n       <use x=\"69.824219\" xlink:href=\"#DejaVuSans-104\"/>\r\n       <use x=\"133.203125\" xlink:href=\"#DejaVuSans-101\"/>\r\n       <use x=\"194.726562\" xlink:href=\"#DejaVuSans-115\"/>\r\n       <use x=\"246.826172\" xlink:href=\"#DejaVuSans-116\"/>\r\n       <use x=\"286.035156\" xlink:href=\"#DejaVuSans-32\"/>\r\n       <use x=\"317.822266\" xlink:href=\"#DejaVuSans-112\"/>\r\n       <use x=\"381.298828\" xlink:href=\"#DejaVuSans-97\"/>\r\n       <use x=\"442.578125\" xlink:href=\"#DejaVuSans-105\"/>\r\n       <use x=\"470.361328\" xlink:href=\"#DejaVuSans-110\"/>\r\n       <use x=\"533.740234\" xlink:href=\"#DejaVuSans-32\"/>\r\n       <use x=\"565.527344\" xlink:href=\"#DejaVuSans-116\"/>\r\n       <use x=\"604.736328\" xlink:href=\"#DejaVuSans-121\"/>\r\n       <use x=\"663.916016\" xlink:href=\"#DejaVuSans-112\"/>\r\n       <use x=\"727.392578\" xlink:href=\"#DejaVuSans-101\"/>\r\n      </g>\r\n     </g>\r\n    </g>\r\n    <g id=\"xtick_4\">\r\n     <g id=\"line2d_4\">\r\n      <g>\r\n       <use style=\"stroke:#000000;stroke-width:0.8;\" x=\"196.57358\" xlink:href=\"#m2a0c7a4dbf\" y=\"550.8\"/>\r\n      </g>\r\n     </g>\r\n     <g id=\"text_4\">\r\n      <!-- BP -->\r\n      <g transform=\"translate(193.967228 572.287955)rotate(-45)scale(0.1 -0.1)\">\r\n       <defs>\r\n        <path d=\"M 19.671875 34.8125 \r\nL 19.671875 8.109375 \r\nL 35.5 8.109375 \r\nQ 43.453125 8.109375 47.28125 11.40625 \r\nQ 51.125 14.703125 51.125 21.484375 \r\nQ 51.125 28.328125 47.28125 31.5625 \r\nQ 43.453125 34.8125 35.5 34.8125 \r\nz\r\nM 19.671875 64.796875 \r\nL 19.671875 42.828125 \r\nL 34.28125 42.828125 \r\nQ 41.5 42.828125 45.03125 45.53125 \r\nQ 48.578125 48.25 48.578125 53.8125 \r\nQ 48.578125 59.328125 45.03125 62.0625 \r\nQ 41.5 64.796875 34.28125 64.796875 \r\nz\r\nM 9.8125 72.90625 \r\nL 35.015625 72.90625 \r\nQ 46.296875 72.90625 52.390625 68.21875 \r\nQ 58.5 63.53125 58.5 54.890625 \r\nQ 58.5 48.1875 55.375 44.234375 \r\nQ 52.25 40.28125 46.1875 39.3125 \r\nQ 53.46875 37.75 57.5 32.78125 \r\nQ 61.53125 27.828125 61.53125 20.40625 \r\nQ 61.53125 10.640625 54.890625 5.3125 \r\nQ 48.25 0 35.984375 0 \r\nL 9.8125 0 \r\nz\r\n\" id=\"DejaVuSans-66\"/>\r\n        <path d=\"M 19.671875 64.796875 \r\nL 19.671875 37.40625 \r\nL 32.078125 37.40625 \r\nQ 38.96875 37.40625 42.71875 40.96875 \r\nQ 46.484375 44.53125 46.484375 51.125 \r\nQ 46.484375 57.671875 42.71875 61.234375 \r\nQ 38.96875 64.796875 32.078125 64.796875 \r\nz\r\nM 9.8125 72.90625 \r\nL 32.078125 72.90625 \r\nQ 44.34375 72.90625 50.609375 67.359375 \r\nQ 56.890625 61.8125 56.890625 51.125 \r\nQ 56.890625 40.328125 50.609375 34.8125 \r\nQ 44.34375 29.296875 32.078125 29.296875 \r\nL 19.671875 29.296875 \r\nL 19.671875 0 \r\nL 9.8125 0 \r\nz\r\n\" id=\"DejaVuSans-80\"/>\r\n       </defs>\r\n       <use xlink:href=\"#DejaVuSans-66\"/>\r\n       <use x=\"68.603516\" xlink:href=\"#DejaVuSans-80\"/>\r\n      </g>\r\n     </g>\r\n    </g>\r\n    <g id=\"xtick_5\">\r\n     <g id=\"line2d_5\">\r\n      <g>\r\n       <use style=\"stroke:#000000;stroke-width:0.8;\" x=\"236.204261\" xlink:href=\"#m2a0c7a4dbf\" y=\"550.8\"/>\r\n      </g>\r\n     </g>\r\n     <g id=\"text_5\">\r\n      <!-- Cholesterol -->\r\n      <g transform=\"translate(218.202317 603.079141)rotate(-45)scale(0.1 -0.1)\">\r\n       <defs>\r\n        <path d=\"M 30.609375 48.390625 \r\nQ 23.390625 48.390625 19.1875 42.75 \r\nQ 14.984375 37.109375 14.984375 27.296875 \r\nQ 14.984375 17.484375 19.15625 11.84375 \r\nQ 23.34375 6.203125 30.609375 6.203125 \r\nQ 37.796875 6.203125 41.984375 11.859375 \r\nQ 46.1875 17.53125 46.1875 27.296875 \r\nQ 46.1875 37.015625 41.984375 42.703125 \r\nQ 37.796875 48.390625 30.609375 48.390625 \r\nz\r\nM 30.609375 56 \r\nQ 42.328125 56 49.015625 48.375 \r\nQ 55.71875 40.765625 55.71875 27.296875 \r\nQ 55.71875 13.875 49.015625 6.21875 \r\nQ 42.328125 -1.421875 30.609375 -1.421875 \r\nQ 18.84375 -1.421875 12.171875 6.21875 \r\nQ 5.515625 13.875 5.515625 27.296875 \r\nQ 5.515625 40.765625 12.171875 48.375 \r\nQ 18.84375 56 30.609375 56 \r\nz\r\n\" id=\"DejaVuSans-111\"/>\r\n        <path d=\"M 9.421875 75.984375 \r\nL 18.40625 75.984375 \r\nL 18.40625 0 \r\nL 9.421875 0 \r\nz\r\n\" id=\"DejaVuSans-108\"/>\r\n        <path d=\"M 41.109375 46.296875 \r\nQ 39.59375 47.171875 37.8125 47.578125 \r\nQ 36.03125 48 33.890625 48 \r\nQ 26.265625 48 22.1875 43.046875 \r\nQ 18.109375 38.09375 18.109375 28.8125 \r\nL 18.109375 0 \r\nL 9.078125 0 \r\nL 9.078125 54.6875 \r\nL 18.109375 54.6875 \r\nL 18.109375 46.1875 \r\nQ 20.953125 51.171875 25.484375 53.578125 \r\nQ 30.03125 56 36.53125 56 \r\nQ 37.453125 56 38.578125 55.875 \r\nQ 39.703125 55.765625 41.0625 55.515625 \r\nz\r\n\" id=\"DejaVuSans-114\"/>\r\n       </defs>\r\n       <use xlink:href=\"#DejaVuSans-67\"/>\r\n       <use x=\"69.824219\" xlink:href=\"#DejaVuSans-104\"/>\r\n       <use x=\"133.203125\" xlink:href=\"#DejaVuSans-111\"/>\r\n       <use x=\"194.384766\" xlink:href=\"#DejaVuSans-108\"/>\r\n       <use x=\"222.167969\" xlink:href=\"#DejaVuSans-101\"/>\r\n       <use x=\"283.691406\" xlink:href=\"#DejaVuSans-115\"/>\r\n       <use x=\"335.791016\" xlink:href=\"#DejaVuSans-116\"/>\r\n       <use x=\"375\" xlink:href=\"#DejaVuSans-101\"/>\r\n       <use x=\"436.523438\" xlink:href=\"#DejaVuSans-114\"/>\r\n       <use x=\"475.386719\" xlink:href=\"#DejaVuSans-111\"/>\r\n       <use x=\"536.568359\" xlink:href=\"#DejaVuSans-108\"/>\r\n      </g>\r\n     </g>\r\n    </g>\r\n    <g id=\"xtick_6\">\r\n     <g id=\"line2d_6\">\r\n      <g>\r\n       <use style=\"stroke:#000000;stroke-width:0.8;\" x=\"275.834943\" xlink:href=\"#m2a0c7a4dbf\" y=\"550.8\"/>\r\n      </g>\r\n     </g>\r\n     <g id=\"text_6\">\r\n      <!-- FBS over 120 -->\r\n      <g transform=\"translate(254.263767 610.217605)rotate(-45)scale(0.1 -0.1)\">\r\n       <defs>\r\n        <path d=\"M 9.8125 72.90625 \r\nL 51.703125 72.90625 \r\nL 51.703125 64.59375 \r\nL 19.671875 64.59375 \r\nL 19.671875 43.109375 \r\nL 48.578125 43.109375 \r\nL 48.578125 34.8125 \r\nL 19.671875 34.8125 \r\nL 19.671875 0 \r\nL 9.8125 0 \r\nz\r\n\" id=\"DejaVuSans-70\"/>\r\n        <path d=\"M 2.984375 54.6875 \r\nL 12.5 54.6875 \r\nL 29.59375 8.796875 \r\nL 46.6875 54.6875 \r\nL 56.203125 54.6875 \r\nL 35.6875 0 \r\nL 23.484375 0 \r\nz\r\n\" id=\"DejaVuSans-118\"/>\r\n        <path d=\"M 12.40625 8.296875 \r\nL 28.515625 8.296875 \r\nL 28.515625 63.921875 \r\nL 10.984375 60.40625 \r\nL 10.984375 69.390625 \r\nL 28.421875 72.90625 \r\nL 38.28125 72.90625 \r\nL 38.28125 8.296875 \r\nL 54.390625 8.296875 \r\nL 54.390625 0 \r\nL 12.40625 0 \r\nz\r\n\" id=\"DejaVuSans-49\"/>\r\n        <path d=\"M 19.1875 8.296875 \r\nL 53.609375 8.296875 \r\nL 53.609375 0 \r\nL 7.328125 0 \r\nL 7.328125 8.296875 \r\nQ 12.9375 14.109375 22.625 23.890625 \r\nQ 32.328125 33.6875 34.8125 36.53125 \r\nQ 39.546875 41.84375 41.421875 45.53125 \r\nQ 43.3125 49.21875 43.3125 52.78125 \r\nQ 43.3125 58.59375 39.234375 62.25 \r\nQ 35.15625 65.921875 28.609375 65.921875 \r\nQ 23.96875 65.921875 18.8125 64.3125 \r\nQ 13.671875 62.703125 7.8125 59.421875 \r\nL 7.8125 69.390625 \r\nQ 13.765625 71.78125 18.9375 73 \r\nQ 24.125 74.21875 28.421875 74.21875 \r\nQ 39.75 74.21875 46.484375 68.546875 \r\nQ 53.21875 62.890625 53.21875 53.421875 \r\nQ 53.21875 48.921875 51.53125 44.890625 \r\nQ 49.859375 40.875 45.40625 35.40625 \r\nQ 44.1875 33.984375 37.640625 27.21875 \r\nQ 31.109375 20.453125 19.1875 8.296875 \r\nz\r\n\" id=\"DejaVuSans-50\"/>\r\n        <path d=\"M 31.78125 66.40625 \r\nQ 24.171875 66.40625 20.328125 58.90625 \r\nQ 16.5 51.421875 16.5 36.375 \r\nQ 16.5 21.390625 20.328125 13.890625 \r\nQ 24.171875 6.390625 31.78125 6.390625 \r\nQ 39.453125 6.390625 43.28125 13.890625 \r\nQ 47.125 21.390625 47.125 36.375 \r\nQ 47.125 51.421875 43.28125 58.90625 \r\nQ 39.453125 66.40625 31.78125 66.40625 \r\nz\r\nM 31.78125 74.21875 \r\nQ 44.046875 74.21875 50.515625 64.515625 \r\nQ 56.984375 54.828125 56.984375 36.375 \r\nQ 56.984375 17.96875 50.515625 8.265625 \r\nQ 44.046875 -1.421875 31.78125 -1.421875 \r\nQ 19.53125 -1.421875 13.0625 8.265625 \r\nQ 6.59375 17.96875 6.59375 36.375 \r\nQ 6.59375 54.828125 13.0625 64.515625 \r\nQ 19.53125 74.21875 31.78125 74.21875 \r\nz\r\n\" id=\"DejaVuSans-48\"/>\r\n       </defs>\r\n       <use xlink:href=\"#DejaVuSans-70\"/>\r\n       <use x=\"57.519531\" xlink:href=\"#DejaVuSans-66\"/>\r\n       <use x=\"124.373047\" xlink:href=\"#DejaVuSans-83\"/>\r\n       <use x=\"187.849609\" xlink:href=\"#DejaVuSans-32\"/>\r\n       <use x=\"219.636719\" xlink:href=\"#DejaVuSans-111\"/>\r\n       <use x=\"280.818359\" xlink:href=\"#DejaVuSans-118\"/>\r\n       <use x=\"339.998047\" xlink:href=\"#DejaVuSans-101\"/>\r\n       <use x=\"401.521484\" xlink:href=\"#DejaVuSans-114\"/>\r\n       <use x=\"442.634766\" xlink:href=\"#DejaVuSans-32\"/>\r\n       <use x=\"474.421875\" xlink:href=\"#DejaVuSans-49\"/>\r\n       <use x=\"538.044922\" xlink:href=\"#DejaVuSans-50\"/>\r\n       <use x=\"601.667969\" xlink:href=\"#DejaVuSans-48\"/>\r\n      </g>\r\n     </g>\r\n    </g>\r\n    <g id=\"xtick_7\">\r\n     <g id=\"line2d_7\">\r\n      <g>\r\n       <use style=\"stroke:#000000;stroke-width:0.8;\" x=\"315.465625\" xlink:href=\"#m2a0c7a4dbf\" y=\"550.8\"/>\r\n      </g>\r\n     </g>\r\n     <g id=\"text_7\">\r\n      <!-- EKG results -->\r\n      <g transform=\"translate(297.159293 603.687916)rotate(-45)scale(0.1 -0.1)\">\r\n       <defs>\r\n        <path d=\"M 9.8125 72.90625 \r\nL 55.90625 72.90625 \r\nL 55.90625 64.59375 \r\nL 19.671875 64.59375 \r\nL 19.671875 43.015625 \r\nL 54.390625 43.015625 \r\nL 54.390625 34.71875 \r\nL 19.671875 34.71875 \r\nL 19.671875 8.296875 \r\nL 56.78125 8.296875 \r\nL 56.78125 0 \r\nL 9.8125 0 \r\nz\r\n\" id=\"DejaVuSans-69\"/>\r\n        <path d=\"M 9.8125 72.90625 \r\nL 19.671875 72.90625 \r\nL 19.671875 42.09375 \r\nL 52.390625 72.90625 \r\nL 65.09375 72.90625 \r\nL 28.90625 38.921875 \r\nL 67.671875 0 \r\nL 54.6875 0 \r\nL 19.671875 35.109375 \r\nL 19.671875 0 \r\nL 9.8125 0 \r\nz\r\n\" id=\"DejaVuSans-75\"/>\r\n        <path d=\"M 59.515625 10.40625 \r\nL 59.515625 29.984375 \r\nL 43.40625 29.984375 \r\nL 43.40625 38.09375 \r\nL 69.28125 38.09375 \r\nL 69.28125 6.78125 \r\nQ 63.578125 2.734375 56.6875 0.65625 \r\nQ 49.8125 -1.421875 42 -1.421875 \r\nQ 24.90625 -1.421875 15.25 8.5625 \r\nQ 5.609375 18.5625 5.609375 36.375 \r\nQ 5.609375 54.25 15.25 64.234375 \r\nQ 24.90625 74.21875 42 74.21875 \r\nQ 49.125 74.21875 55.546875 72.453125 \r\nQ 61.96875 70.703125 67.390625 67.28125 \r\nL 67.390625 56.78125 \r\nQ 61.921875 61.421875 55.765625 63.765625 \r\nQ 49.609375 66.109375 42.828125 66.109375 \r\nQ 29.4375 66.109375 22.71875 58.640625 \r\nQ 16.015625 51.171875 16.015625 36.375 \r\nQ 16.015625 21.625 22.71875 14.15625 \r\nQ 29.4375 6.6875 42.828125 6.6875 \r\nQ 48.046875 6.6875 52.140625 7.59375 \r\nQ 56.25 8.5 59.515625 10.40625 \r\nz\r\n\" id=\"DejaVuSans-71\"/>\r\n        <path d=\"M 8.5 21.578125 \r\nL 8.5 54.6875 \r\nL 17.484375 54.6875 \r\nL 17.484375 21.921875 \r\nQ 17.484375 14.15625 20.5 10.265625 \r\nQ 23.53125 6.390625 29.59375 6.390625 \r\nQ 36.859375 6.390625 41.078125 11.03125 \r\nQ 45.3125 15.671875 45.3125 23.6875 \r\nL 45.3125 54.6875 \r\nL 54.296875 54.6875 \r\nL 54.296875 0 \r\nL 45.3125 0 \r\nL 45.3125 8.40625 \r\nQ 42.046875 3.421875 37.71875 1 \r\nQ 33.40625 -1.421875 27.6875 -1.421875 \r\nQ 18.265625 -1.421875 13.375 4.4375 \r\nQ 8.5 10.296875 8.5 21.578125 \r\nz\r\nM 31.109375 56 \r\nz\r\n\" id=\"DejaVuSans-117\"/>\r\n       </defs>\r\n       <use xlink:href=\"#DejaVuSans-69\"/>\r\n       <use x=\"63.183594\" xlink:href=\"#DejaVuSans-75\"/>\r\n       <use x=\"128.759766\" xlink:href=\"#DejaVuSans-71\"/>\r\n       <use x=\"206.25\" xlink:href=\"#DejaVuSans-32\"/>\r\n       <use x=\"238.037109\" xlink:href=\"#DejaVuSans-114\"/>\r\n       <use x=\"276.900391\" xlink:href=\"#DejaVuSans-101\"/>\r\n       <use x=\"338.423828\" xlink:href=\"#DejaVuSans-115\"/>\r\n       <use x=\"390.523438\" xlink:href=\"#DejaVuSans-117\"/>\r\n       <use x=\"453.902344\" xlink:href=\"#DejaVuSans-108\"/>\r\n       <use x=\"481.685547\" xlink:href=\"#DejaVuSans-116\"/>\r\n       <use x=\"520.894531\" xlink:href=\"#DejaVuSans-115\"/>\r\n      </g>\r\n     </g>\r\n    </g>\r\n    <g id=\"xtick_8\">\r\n     <g id=\"line2d_8\">\r\n      <g>\r\n       <use style=\"stroke:#000000;stroke-width:0.8;\" x=\"355.096307\" xlink:href=\"#m2a0c7a4dbf\" y=\"550.8\"/>\r\n      </g>\r\n     </g>\r\n     <g id=\"text_8\">\r\n      <!-- Max HR -->\r\n      <g transform=\"translate(343.498651 590.270564)rotate(-45)scale(0.1 -0.1)\">\r\n       <defs>\r\n        <path d=\"M 9.8125 72.90625 \r\nL 24.515625 72.90625 \r\nL 43.109375 23.296875 \r\nL 61.8125 72.90625 \r\nL 76.515625 72.90625 \r\nL 76.515625 0 \r\nL 66.890625 0 \r\nL 66.890625 64.015625 \r\nL 48.09375 14.015625 \r\nL 38.1875 14.015625 \r\nL 19.390625 64.015625 \r\nL 19.390625 0 \r\nL 9.8125 0 \r\nz\r\n\" id=\"DejaVuSans-77\"/>\r\n        <path d=\"M 9.8125 72.90625 \r\nL 19.671875 72.90625 \r\nL 19.671875 43.015625 \r\nL 55.515625 43.015625 \r\nL 55.515625 72.90625 \r\nL 65.375 72.90625 \r\nL 65.375 0 \r\nL 55.515625 0 \r\nL 55.515625 34.71875 \r\nL 19.671875 34.71875 \r\nL 19.671875 0 \r\nL 9.8125 0 \r\nz\r\n\" id=\"DejaVuSans-72\"/>\r\n        <path d=\"M 44.390625 34.1875 \r\nQ 47.5625 33.109375 50.5625 29.59375 \r\nQ 53.5625 26.078125 56.59375 19.921875 \r\nL 66.609375 0 \r\nL 56 0 \r\nL 46.6875 18.703125 \r\nQ 43.0625 26.03125 39.671875 28.421875 \r\nQ 36.28125 30.8125 30.421875 30.8125 \r\nL 19.671875 30.8125 \r\nL 19.671875 0 \r\nL 9.8125 0 \r\nL 9.8125 72.90625 \r\nL 32.078125 72.90625 \r\nQ 44.578125 72.90625 50.734375 67.671875 \r\nQ 56.890625 62.453125 56.890625 51.90625 \r\nQ 56.890625 45.015625 53.6875 40.46875 \r\nQ 50.484375 35.9375 44.390625 34.1875 \r\nz\r\nM 19.671875 64.796875 \r\nL 19.671875 38.921875 \r\nL 32.078125 38.921875 \r\nQ 39.203125 38.921875 42.84375 42.21875 \r\nQ 46.484375 45.515625 46.484375 51.90625 \r\nQ 46.484375 58.296875 42.84375 61.546875 \r\nQ 39.203125 64.796875 32.078125 64.796875 \r\nz\r\n\" id=\"DejaVuSans-82\"/>\r\n       </defs>\r\n       <use xlink:href=\"#DejaVuSans-77\"/>\r\n       <use x=\"86.279297\" xlink:href=\"#DejaVuSans-97\"/>\r\n       <use x=\"147.558594\" xlink:href=\"#DejaVuSans-120\"/>\r\n       <use x=\"206.738281\" xlink:href=\"#DejaVuSans-32\"/>\r\n       <use x=\"238.525391\" xlink:href=\"#DejaVuSans-72\"/>\r\n       <use x=\"313.720703\" xlink:href=\"#DejaVuSans-82\"/>\r\n      </g>\r\n     </g>\r\n    </g>\r\n    <g id=\"xtick_9\">\r\n     <g id=\"line2d_9\">\r\n      <g>\r\n       <use style=\"stroke:#000000;stroke-width:0.8;\" x=\"394.726989\" xlink:href=\"#m2a0c7a4dbf\" y=\"550.8\"/>\r\n      </g>\r\n     </g>\r\n     <g id=\"text_9\">\r\n      <!-- Exercise angina -->\r\n      <g transform=\"translate(368.804344 618.920542)rotate(-45)scale(0.1 -0.1)\">\r\n       <defs>\r\n        <path d=\"M 48.78125 52.59375 \r\nL 48.78125 44.1875 \r\nQ 44.96875 46.296875 41.140625 47.34375 \r\nQ 37.3125 48.390625 33.40625 48.390625 \r\nQ 24.65625 48.390625 19.8125 42.84375 \r\nQ 14.984375 37.3125 14.984375 27.296875 \r\nQ 14.984375 17.28125 19.8125 11.734375 \r\nQ 24.65625 6.203125 33.40625 6.203125 \r\nQ 37.3125 6.203125 41.140625 7.25 \r\nQ 44.96875 8.296875 48.78125 10.40625 \r\nL 48.78125 2.09375 \r\nQ 45.015625 0.34375 40.984375 -0.53125 \r\nQ 36.96875 -1.421875 32.421875 -1.421875 \r\nQ 20.0625 -1.421875 12.78125 6.34375 \r\nQ 5.515625 14.109375 5.515625 27.296875 \r\nQ 5.515625 40.671875 12.859375 48.328125 \r\nQ 20.21875 56 33.015625 56 \r\nQ 37.15625 56 41.109375 55.140625 \r\nQ 45.0625 54.296875 48.78125 52.59375 \r\nz\r\n\" id=\"DejaVuSans-99\"/>\r\n       </defs>\r\n       <use xlink:href=\"#DejaVuSans-69\"/>\r\n       <use x=\"63.183594\" xlink:href=\"#DejaVuSans-120\"/>\r\n       <use x=\"119.238281\" xlink:href=\"#DejaVuSans-101\"/>\r\n       <use x=\"180.761719\" xlink:href=\"#DejaVuSans-114\"/>\r\n       <use x=\"219.625\" xlink:href=\"#DejaVuSans-99\"/>\r\n       <use x=\"274.605469\" xlink:href=\"#DejaVuSans-105\"/>\r\n       <use x=\"302.388672\" xlink:href=\"#DejaVuSans-115\"/>\r\n       <use x=\"354.488281\" xlink:href=\"#DejaVuSans-101\"/>\r\n       <use x=\"416.011719\" xlink:href=\"#DejaVuSans-32\"/>\r\n       <use x=\"447.798828\" xlink:href=\"#DejaVuSans-97\"/>\r\n       <use x=\"509.078125\" xlink:href=\"#DejaVuSans-110\"/>\r\n       <use x=\"572.457031\" xlink:href=\"#DejaVuSans-103\"/>\r\n       <use x=\"635.933594\" xlink:href=\"#DejaVuSans-105\"/>\r\n       <use x=\"663.716797\" xlink:href=\"#DejaVuSans-110\"/>\r\n       <use x=\"727.095703\" xlink:href=\"#DejaVuSans-97\"/>\r\n      </g>\r\n     </g>\r\n    </g>\r\n    <g id=\"xtick_10\">\r\n     <g id=\"line2d_10\">\r\n      <g>\r\n       <use style=\"stroke:#000000;stroke-width:0.8;\" x=\"434.35767\" xlink:href=\"#m2a0c7a4dbf\" y=\"550.8\"/>\r\n      </g>\r\n     </g>\r\n     <g id=\"text_10\">\r\n      <!-- ST depression -->\r\n      <g transform=\"translate(411.497682 612.79523)rotate(-45)scale(0.1 -0.1)\">\r\n       <defs>\r\n        <path d=\"M -0.296875 72.90625 \r\nL 61.375 72.90625 \r\nL 61.375 64.59375 \r\nL 35.5 64.59375 \r\nL 35.5 0 \r\nL 25.59375 0 \r\nL 25.59375 64.59375 \r\nL -0.296875 64.59375 \r\nz\r\n\" id=\"DejaVuSans-84\"/>\r\n        <path d=\"M 45.40625 46.390625 \r\nL 45.40625 75.984375 \r\nL 54.390625 75.984375 \r\nL 54.390625 0 \r\nL 45.40625 0 \r\nL 45.40625 8.203125 \r\nQ 42.578125 3.328125 38.25 0.953125 \r\nQ 33.9375 -1.421875 27.875 -1.421875 \r\nQ 17.96875 -1.421875 11.734375 6.484375 \r\nQ 5.515625 14.40625 5.515625 27.296875 \r\nQ 5.515625 40.1875 11.734375 48.09375 \r\nQ 17.96875 56 27.875 56 \r\nQ 33.9375 56 38.25 53.625 \r\nQ 42.578125 51.265625 45.40625 46.390625 \r\nz\r\nM 14.796875 27.296875 \r\nQ 14.796875 17.390625 18.875 11.75 \r\nQ 22.953125 6.109375 30.078125 6.109375 \r\nQ 37.203125 6.109375 41.296875 11.75 \r\nQ 45.40625 17.390625 45.40625 27.296875 \r\nQ 45.40625 37.203125 41.296875 42.84375 \r\nQ 37.203125 48.484375 30.078125 48.484375 \r\nQ 22.953125 48.484375 18.875 42.84375 \r\nQ 14.796875 37.203125 14.796875 27.296875 \r\nz\r\n\" id=\"DejaVuSans-100\"/>\r\n       </defs>\r\n       <use xlink:href=\"#DejaVuSans-83\"/>\r\n       <use x=\"63.476562\" xlink:href=\"#DejaVuSans-84\"/>\r\n       <use x=\"124.560547\" xlink:href=\"#DejaVuSans-32\"/>\r\n       <use x=\"156.347656\" xlink:href=\"#DejaVuSans-100\"/>\r\n       <use x=\"219.824219\" xlink:href=\"#DejaVuSans-101\"/>\r\n       <use x=\"281.347656\" xlink:href=\"#DejaVuSans-112\"/>\r\n       <use x=\"344.824219\" xlink:href=\"#DejaVuSans-114\"/>\r\n       <use x=\"383.6875\" xlink:href=\"#DejaVuSans-101\"/>\r\n       <use x=\"445.210938\" xlink:href=\"#DejaVuSans-115\"/>\r\n       <use x=\"497.310547\" xlink:href=\"#DejaVuSans-115\"/>\r\n       <use x=\"549.410156\" xlink:href=\"#DejaVuSans-105\"/>\r\n       <use x=\"577.193359\" xlink:href=\"#DejaVuSans-111\"/>\r\n       <use x=\"638.375\" xlink:href=\"#DejaVuSans-110\"/>\r\n      </g>\r\n     </g>\r\n    </g>\r\n    <g id=\"xtick_11\">\r\n     <g id=\"line2d_11\">\r\n      <g>\r\n       <use style=\"stroke:#000000;stroke-width:0.8;\" x=\"473.988352\" xlink:href=\"#m2a0c7a4dbf\" y=\"550.8\"/>\r\n      </g>\r\n     </g>\r\n     <g id=\"text_11\">\r\n      <!-- Slope of ST -->\r\n      <g transform=\"translate(456.070377 602.911203)rotate(-45)scale(0.1 -0.1)\">\r\n       <defs>\r\n        <path d=\"M 37.109375 75.984375 \r\nL 37.109375 68.5 \r\nL 28.515625 68.5 \r\nQ 23.6875 68.5 21.796875 66.546875 \r\nQ 19.921875 64.59375 19.921875 59.515625 \r\nL 19.921875 54.6875 \r\nL 34.71875 54.6875 \r\nL 34.71875 47.703125 \r\nL 19.921875 47.703125 \r\nL 19.921875 0 \r\nL 10.890625 0 \r\nL 10.890625 47.703125 \r\nL 2.296875 47.703125 \r\nL 2.296875 54.6875 \r\nL 10.890625 54.6875 \r\nL 10.890625 58.5 \r\nQ 10.890625 67.625 15.140625 71.796875 \r\nQ 19.390625 75.984375 28.609375 75.984375 \r\nz\r\n\" id=\"DejaVuSans-102\"/>\r\n       </defs>\r\n       <use xlink:href=\"#DejaVuSans-83\"/>\r\n       <use x=\"63.476562\" xlink:href=\"#DejaVuSans-108\"/>\r\n       <use x=\"91.259766\" xlink:href=\"#DejaVuSans-111\"/>\r\n       <use x=\"152.441406\" xlink:href=\"#DejaVuSans-112\"/>\r\n       <use x=\"215.917969\" xlink:href=\"#DejaVuSans-101\"/>\r\n       <use x=\"277.441406\" xlink:href=\"#DejaVuSans-32\"/>\r\n       <use x=\"309.228516\" xlink:href=\"#DejaVuSans-111\"/>\r\n       <use x=\"370.410156\" xlink:href=\"#DejaVuSans-102\"/>\r\n       <use x=\"405.615234\" xlink:href=\"#DejaVuSans-32\"/>\r\n       <use x=\"437.402344\" xlink:href=\"#DejaVuSans-83\"/>\r\n       <use x=\"500.878906\" xlink:href=\"#DejaVuSans-84\"/>\r\n      </g>\r\n     </g>\r\n    </g>\r\n    <g id=\"xtick_12\">\r\n     <g id=\"line2d_12\">\r\n      <g>\r\n       <use style=\"stroke:#000000;stroke-width:0.8;\" x=\"513.619034\" xlink:href=\"#m2a0c7a4dbf\" y=\"550.8\"/>\r\n      </g>\r\n     </g>\r\n     <g id=\"text_12\">\r\n      <!-- Number of vessels fluro -->\r\n      <g transform=\"translate(473.632698 647.047924)rotate(-45)scale(0.1 -0.1)\">\r\n       <defs>\r\n        <path d=\"M 9.8125 72.90625 \r\nL 23.09375 72.90625 \r\nL 55.421875 11.921875 \r\nL 55.421875 72.90625 \r\nL 64.984375 72.90625 \r\nL 64.984375 0 \r\nL 51.703125 0 \r\nL 19.390625 60.984375 \r\nL 19.390625 0 \r\nL 9.8125 0 \r\nz\r\n\" id=\"DejaVuSans-78\"/>\r\n        <path d=\"M 52 44.1875 \r\nQ 55.375 50.25 60.0625 53.125 \r\nQ 64.75 56 71.09375 56 \r\nQ 79.640625 56 84.28125 50.015625 \r\nQ 88.921875 44.046875 88.921875 33.015625 \r\nL 88.921875 0 \r\nL 79.890625 0 \r\nL 79.890625 32.71875 \r\nQ 79.890625 40.578125 77.09375 44.375 \r\nQ 74.3125 48.1875 68.609375 48.1875 \r\nQ 61.625 48.1875 57.5625 43.546875 \r\nQ 53.515625 38.921875 53.515625 30.90625 \r\nL 53.515625 0 \r\nL 44.484375 0 \r\nL 44.484375 32.71875 \r\nQ 44.484375 40.625 41.703125 44.40625 \r\nQ 38.921875 48.1875 33.109375 48.1875 \r\nQ 26.21875 48.1875 22.15625 43.53125 \r\nQ 18.109375 38.875 18.109375 30.90625 \r\nL 18.109375 0 \r\nL 9.078125 0 \r\nL 9.078125 54.6875 \r\nL 18.109375 54.6875 \r\nL 18.109375 46.1875 \r\nQ 21.1875 51.21875 25.484375 53.609375 \r\nQ 29.78125 56 35.6875 56 \r\nQ 41.65625 56 45.828125 52.96875 \r\nQ 50 49.953125 52 44.1875 \r\nz\r\n\" id=\"DejaVuSans-109\"/>\r\n        <path d=\"M 48.6875 27.296875 \r\nQ 48.6875 37.203125 44.609375 42.84375 \r\nQ 40.53125 48.484375 33.40625 48.484375 \r\nQ 26.265625 48.484375 22.1875 42.84375 \r\nQ 18.109375 37.203125 18.109375 27.296875 \r\nQ 18.109375 17.390625 22.1875 11.75 \r\nQ 26.265625 6.109375 33.40625 6.109375 \r\nQ 40.53125 6.109375 44.609375 11.75 \r\nQ 48.6875 17.390625 48.6875 27.296875 \r\nz\r\nM 18.109375 46.390625 \r\nQ 20.953125 51.265625 25.265625 53.625 \r\nQ 29.59375 56 35.59375 56 \r\nQ 45.5625 56 51.78125 48.09375 \r\nQ 58.015625 40.1875 58.015625 27.296875 \r\nQ 58.015625 14.40625 51.78125 6.484375 \r\nQ 45.5625 -1.421875 35.59375 -1.421875 \r\nQ 29.59375 -1.421875 25.265625 0.953125 \r\nQ 20.953125 3.328125 18.109375 8.203125 \r\nL 18.109375 0 \r\nL 9.078125 0 \r\nL 9.078125 75.984375 \r\nL 18.109375 75.984375 \r\nz\r\n\" id=\"DejaVuSans-98\"/>\r\n       </defs>\r\n       <use xlink:href=\"#DejaVuSans-78\"/>\r\n       <use x=\"74.804688\" xlink:href=\"#DejaVuSans-117\"/>\r\n       <use x=\"138.183594\" xlink:href=\"#DejaVuSans-109\"/>\r\n       <use x=\"235.595703\" xlink:href=\"#DejaVuSans-98\"/>\r\n       <use x=\"299.072266\" xlink:href=\"#DejaVuSans-101\"/>\r\n       <use x=\"360.595703\" xlink:href=\"#DejaVuSans-114\"/>\r\n       <use x=\"401.708984\" xlink:href=\"#DejaVuSans-32\"/>\r\n       <use x=\"433.496094\" xlink:href=\"#DejaVuSans-111\"/>\r\n       <use x=\"494.677734\" xlink:href=\"#DejaVuSans-102\"/>\r\n       <use x=\"529.882812\" xlink:href=\"#DejaVuSans-32\"/>\r\n       <use x=\"561.669922\" xlink:href=\"#DejaVuSans-118\"/>\r\n       <use x=\"620.849609\" xlink:href=\"#DejaVuSans-101\"/>\r\n       <use x=\"682.373047\" xlink:href=\"#DejaVuSans-115\"/>\r\n       <use x=\"734.472656\" xlink:href=\"#DejaVuSans-115\"/>\r\n       <use x=\"786.572266\" xlink:href=\"#DejaVuSans-101\"/>\r\n       <use x=\"848.095703\" xlink:href=\"#DejaVuSans-108\"/>\r\n       <use x=\"875.878906\" xlink:href=\"#DejaVuSans-115\"/>\r\n       <use x=\"927.978516\" xlink:href=\"#DejaVuSans-32\"/>\r\n       <use x=\"959.765625\" xlink:href=\"#DejaVuSans-102\"/>\r\n       <use x=\"994.970703\" xlink:href=\"#DejaVuSans-108\"/>\r\n       <use x=\"1022.753906\" xlink:href=\"#DejaVuSans-117\"/>\r\n       <use x=\"1086.132812\" xlink:href=\"#DejaVuSans-114\"/>\r\n       <use x=\"1124.996094\" xlink:href=\"#DejaVuSans-111\"/>\r\n      </g>\r\n     </g>\r\n    </g>\r\n    <g id=\"xtick_13\">\r\n     <g id=\"line2d_13\">\r\n      <g>\r\n       <use style=\"stroke:#000000;stroke-width:0.8;\" x=\"553.249716\" xlink:href=\"#m2a0c7a4dbf\" y=\"550.8\"/>\r\n      </g>\r\n     </g>\r\n     <g id=\"text_13\">\r\n      <!-- Thallium -->\r\n      <g transform=\"translate(540.003065 593.568555)rotate(-45)scale(0.1 -0.1)\">\r\n       <use xlink:href=\"#DejaVuSans-84\"/>\r\n       <use x=\"61.083984\" xlink:href=\"#DejaVuSans-104\"/>\r\n       <use x=\"124.462891\" xlink:href=\"#DejaVuSans-97\"/>\r\n       <use x=\"185.742188\" xlink:href=\"#DejaVuSans-108\"/>\r\n       <use x=\"213.525391\" xlink:href=\"#DejaVuSans-108\"/>\r\n       <use x=\"241.308594\" xlink:href=\"#DejaVuSans-105\"/>\r\n       <use x=\"269.091797\" xlink:href=\"#DejaVuSans-117\"/>\r\n       <use x=\"332.470703\" xlink:href=\"#DejaVuSans-109\"/>\r\n      </g>\r\n     </g>\r\n    </g>\r\n   </g>\r\n   <g id=\"matplotlib.axis_2\">\r\n    <g id=\"ytick_1\">\r\n     <g id=\"line2d_14\">\r\n      <defs>\r\n       <path d=\"M 0 0 \r\nL -3.5 0 \r\n\" id=\"m9e1fd860f7\" style=\"stroke:#000000;stroke-width:0.8;\"/>\r\n      </defs>\r\n      <g>\r\n       <use style=\"stroke:#000000;stroke-width:0.8;\" x=\"36.465625\" xlink:href=\"#m9e1fd860f7\" y=\"550.8\"/>\r\n      </g>\r\n     </g>\r\n     <g id=\"text_14\">\r\n      <!-- 0.00 -->\r\n      <g transform=\"translate(7.2 554.599219)scale(0.1 -0.1)\">\r\n       <defs>\r\n        <path d=\"M 10.6875 12.40625 \r\nL 21 12.40625 \r\nL 21 0 \r\nL 10.6875 0 \r\nz\r\n\" id=\"DejaVuSans-46\"/>\r\n       </defs>\r\n       <use xlink:href=\"#DejaVuSans-48\"/>\r\n       <use x=\"63.623047\" xlink:href=\"#DejaVuSans-46\"/>\r\n       <use x=\"95.410156\" xlink:href=\"#DejaVuSans-48\"/>\r\n       <use x=\"159.033203\" xlink:href=\"#DejaVuSans-48\"/>\r\n      </g>\r\n     </g>\r\n    </g>\r\n    <g id=\"ytick_2\">\r\n     <g id=\"line2d_15\">\r\n      <g>\r\n       <use style=\"stroke:#000000;stroke-width:0.8;\" x=\"36.465625\" xlink:href=\"#m9e1fd860f7\" y=\"469.723642\"/>\r\n      </g>\r\n     </g>\r\n     <g id=\"text_15\">\r\n      <!-- 0.02 -->\r\n      <g transform=\"translate(7.2 473.52286)scale(0.1 -0.1)\">\r\n       <use xlink:href=\"#DejaVuSans-48\"/>\r\n       <use x=\"63.623047\" xlink:href=\"#DejaVuSans-46\"/>\r\n       <use x=\"95.410156\" xlink:href=\"#DejaVuSans-48\"/>\r\n       <use x=\"159.033203\" xlink:href=\"#DejaVuSans-50\"/>\r\n      </g>\r\n     </g>\r\n    </g>\r\n    <g id=\"ytick_3\">\r\n     <g id=\"line2d_16\">\r\n      <g>\r\n       <use style=\"stroke:#000000;stroke-width:0.8;\" x=\"36.465625\" xlink:href=\"#m9e1fd860f7\" y=\"388.647283\"/>\r\n      </g>\r\n     </g>\r\n     <g id=\"text_16\">\r\n      <!-- 0.04 -->\r\n      <g transform=\"translate(7.2 392.446502)scale(0.1 -0.1)\">\r\n       <defs>\r\n        <path d=\"M 37.796875 64.3125 \r\nL 12.890625 25.390625 \r\nL 37.796875 25.390625 \r\nz\r\nM 35.203125 72.90625 \r\nL 47.609375 72.90625 \r\nL 47.609375 25.390625 \r\nL 58.015625 25.390625 \r\nL 58.015625 17.1875 \r\nL 47.609375 17.1875 \r\nL 47.609375 0 \r\nL 37.796875 0 \r\nL 37.796875 17.1875 \r\nL 4.890625 17.1875 \r\nL 4.890625 26.703125 \r\nz\r\n\" id=\"DejaVuSans-52\"/>\r\n       </defs>\r\n       <use xlink:href=\"#DejaVuSans-48\"/>\r\n       <use x=\"63.623047\" xlink:href=\"#DejaVuSans-46\"/>\r\n       <use x=\"95.410156\" xlink:href=\"#DejaVuSans-48\"/>\r\n       <use x=\"159.033203\" xlink:href=\"#DejaVuSans-52\"/>\r\n      </g>\r\n     </g>\r\n    </g>\r\n    <g id=\"ytick_4\">\r\n     <g id=\"line2d_17\">\r\n      <g>\r\n       <use style=\"stroke:#000000;stroke-width:0.8;\" x=\"36.465625\" xlink:href=\"#m9e1fd860f7\" y=\"307.570925\"/>\r\n      </g>\r\n     </g>\r\n     <g id=\"text_17\">\r\n      <!-- 0.06 -->\r\n      <g transform=\"translate(7.2 311.370144)scale(0.1 -0.1)\">\r\n       <defs>\r\n        <path d=\"M 33.015625 40.375 \r\nQ 26.375 40.375 22.484375 35.828125 \r\nQ 18.609375 31.296875 18.609375 23.390625 \r\nQ 18.609375 15.53125 22.484375 10.953125 \r\nQ 26.375 6.390625 33.015625 6.390625 \r\nQ 39.65625 6.390625 43.53125 10.953125 \r\nQ 47.40625 15.53125 47.40625 23.390625 \r\nQ 47.40625 31.296875 43.53125 35.828125 \r\nQ 39.65625 40.375 33.015625 40.375 \r\nz\r\nM 52.59375 71.296875 \r\nL 52.59375 62.3125 \r\nQ 48.875 64.0625 45.09375 64.984375 \r\nQ 41.3125 65.921875 37.59375 65.921875 \r\nQ 27.828125 65.921875 22.671875 59.328125 \r\nQ 17.53125 52.734375 16.796875 39.40625 \r\nQ 19.671875 43.65625 24.015625 45.921875 \r\nQ 28.375 48.1875 33.59375 48.1875 \r\nQ 44.578125 48.1875 50.953125 41.515625 \r\nQ 57.328125 34.859375 57.328125 23.390625 \r\nQ 57.328125 12.15625 50.6875 5.359375 \r\nQ 44.046875 -1.421875 33.015625 -1.421875 \r\nQ 20.359375 -1.421875 13.671875 8.265625 \r\nQ 6.984375 17.96875 6.984375 36.375 \r\nQ 6.984375 53.65625 15.1875 63.9375 \r\nQ 23.390625 74.21875 37.203125 74.21875 \r\nQ 40.921875 74.21875 44.703125 73.484375 \r\nQ 48.484375 72.75 52.59375 71.296875 \r\nz\r\n\" id=\"DejaVuSans-54\"/>\r\n       </defs>\r\n       <use xlink:href=\"#DejaVuSans-48\"/>\r\n       <use x=\"63.623047\" xlink:href=\"#DejaVuSans-46\"/>\r\n       <use x=\"95.410156\" xlink:href=\"#DejaVuSans-48\"/>\r\n       <use x=\"159.033203\" xlink:href=\"#DejaVuSans-54\"/>\r\n      </g>\r\n     </g>\r\n    </g>\r\n    <g id=\"ytick_5\">\r\n     <g id=\"line2d_18\">\r\n      <g>\r\n       <use style=\"stroke:#000000;stroke-width:0.8;\" x=\"36.465625\" xlink:href=\"#m9e1fd860f7\" y=\"226.494566\"/>\r\n      </g>\r\n     </g>\r\n     <g id=\"text_18\">\r\n      <!-- 0.08 -->\r\n      <g transform=\"translate(7.2 230.293785)scale(0.1 -0.1)\">\r\n       <defs>\r\n        <path d=\"M 31.78125 34.625 \r\nQ 24.75 34.625 20.71875 30.859375 \r\nQ 16.703125 27.09375 16.703125 20.515625 \r\nQ 16.703125 13.921875 20.71875 10.15625 \r\nQ 24.75 6.390625 31.78125 6.390625 \r\nQ 38.8125 6.390625 42.859375 10.171875 \r\nQ 46.921875 13.96875 46.921875 20.515625 \r\nQ 46.921875 27.09375 42.890625 30.859375 \r\nQ 38.875 34.625 31.78125 34.625 \r\nz\r\nM 21.921875 38.8125 \r\nQ 15.578125 40.375 12.03125 44.71875 \r\nQ 8.5 49.078125 8.5 55.328125 \r\nQ 8.5 64.0625 14.71875 69.140625 \r\nQ 20.953125 74.21875 31.78125 74.21875 \r\nQ 42.671875 74.21875 48.875 69.140625 \r\nQ 55.078125 64.0625 55.078125 55.328125 \r\nQ 55.078125 49.078125 51.53125 44.71875 \r\nQ 48 40.375 41.703125 38.8125 \r\nQ 48.828125 37.15625 52.796875 32.3125 \r\nQ 56.78125 27.484375 56.78125 20.515625 \r\nQ 56.78125 9.90625 50.3125 4.234375 \r\nQ 43.84375 -1.421875 31.78125 -1.421875 \r\nQ 19.734375 -1.421875 13.25 4.234375 \r\nQ 6.78125 9.90625 6.78125 20.515625 \r\nQ 6.78125 27.484375 10.78125 32.3125 \r\nQ 14.796875 37.15625 21.921875 38.8125 \r\nz\r\nM 18.3125 54.390625 \r\nQ 18.3125 48.734375 21.84375 45.5625 \r\nQ 25.390625 42.390625 31.78125 42.390625 \r\nQ 38.140625 42.390625 41.71875 45.5625 \r\nQ 45.3125 48.734375 45.3125 54.390625 \r\nQ 45.3125 60.0625 41.71875 63.234375 \r\nQ 38.140625 66.40625 31.78125 66.40625 \r\nQ 25.390625 66.40625 21.84375 63.234375 \r\nQ 18.3125 60.0625 18.3125 54.390625 \r\nz\r\n\" id=\"DejaVuSans-56\"/>\r\n       </defs>\r\n       <use xlink:href=\"#DejaVuSans-48\"/>\r\n       <use x=\"63.623047\" xlink:href=\"#DejaVuSans-46\"/>\r\n       <use x=\"95.410156\" xlink:href=\"#DejaVuSans-48\"/>\r\n       <use x=\"159.033203\" xlink:href=\"#DejaVuSans-56\"/>\r\n      </g>\r\n     </g>\r\n    </g>\r\n    <g id=\"ytick_6\">\r\n     <g id=\"line2d_19\">\r\n      <g>\r\n       <use style=\"stroke:#000000;stroke-width:0.8;\" x=\"36.465625\" xlink:href=\"#m9e1fd860f7\" y=\"145.418208\"/>\r\n      </g>\r\n     </g>\r\n     <g id=\"text_19\">\r\n      <!-- 0.10 -->\r\n      <g transform=\"translate(7.2 149.217427)scale(0.1 -0.1)\">\r\n       <use xlink:href=\"#DejaVuSans-48\"/>\r\n       <use x=\"63.623047\" xlink:href=\"#DejaVuSans-46\"/>\r\n       <use x=\"95.410156\" xlink:href=\"#DejaVuSans-49\"/>\r\n       <use x=\"159.033203\" xlink:href=\"#DejaVuSans-48\"/>\r\n      </g>\r\n     </g>\r\n    </g>\r\n    <g id=\"ytick_7\">\r\n     <g id=\"line2d_20\">\r\n      <g>\r\n       <use style=\"stroke:#000000;stroke-width:0.8;\" x=\"36.465625\" xlink:href=\"#m9e1fd860f7\" y=\"64.34185\"/>\r\n      </g>\r\n     </g>\r\n     <g id=\"text_20\">\r\n      <!-- 0.12 -->\r\n      <g transform=\"translate(7.2 68.141068)scale(0.1 -0.1)\">\r\n       <use xlink:href=\"#DejaVuSans-48\"/>\r\n       <use x=\"63.623047\" xlink:href=\"#DejaVuSans-46\"/>\r\n       <use x=\"95.410156\" xlink:href=\"#DejaVuSans-49\"/>\r\n       <use x=\"159.033203\" xlink:href=\"#DejaVuSans-50\"/>\r\n      </g>\r\n     </g>\r\n    </g>\r\n   </g>\r\n   <g id=\"patch_16\">\r\n    <path d=\"M 36.465625 550.8 \r\nL 36.465625 7.2 \r\n\" style=\"fill:none;stroke:#000000;stroke-linecap:square;stroke-linejoin:miter;stroke-width:0.8;\"/>\r\n   </g>\r\n   <g id=\"patch_17\">\r\n    <path d=\"M 594.465625 550.8 \r\nL 594.465625 7.2 \r\n\" style=\"fill:none;stroke:#000000;stroke-linecap:square;stroke-linejoin:miter;stroke-width:0.8;\"/>\r\n   </g>\r\n   <g id=\"patch_18\">\r\n    <path d=\"M 36.465625 550.8 \r\nL 594.465625 550.8 \r\n\" style=\"fill:none;stroke:#000000;stroke-linecap:square;stroke-linejoin:miter;stroke-width:0.8;\"/>\r\n   </g>\r\n   <g id=\"patch_19\">\r\n    <path d=\"M 36.465625 7.2 \r\nL 594.465625 7.2 \r\n\" style=\"fill:none;stroke:#000000;stroke-linecap:square;stroke-linejoin:miter;stroke-width:0.8;\"/>\r\n   </g>\r\n  </g>\r\n </g>\r\n <defs>\r\n  <clipPath id=\"p77cf22fa7c\">\r\n   <rect height=\"543.6\" width=\"558\" x=\"36.465625\" y=\"7.2\"/>\r\n  </clipPath>\r\n </defs>\r\n</svg>\r\n",
      "image/png": "[encoded data removed]"
     },
     "metadata": {
      "needs_background": "light"
     }
    }
   ],
   "source": [
    "# Feature Selection Using Random Forest\n",
    "clf = RandomForestClassifier()\n",
    "clf.fit(df_norm, y)\n",
    "# Create a figure to plot a bar, where x axis is features, and Y indicating the importance of each feature\n",
    "plt.figure(figsize=(10,10))\n",
    "plt.bar(df_norm.columns, clf.feature_importances_)\n",
    "plt.xticks(rotation=45)"
   ]
  },
  {
   "source": [
    "### Solution Implementation"
   ],
   "cell_type": "markdown",
   "metadata": {}
  },
  {
   "source": [
    "# Let's say we have 4 features: x1, x2, x3, x4\n",
    "# 1. Function which returns all the possible combinations: E.g.: For 3 features: (x1, x2), (x2, x3), (x1, x3), (x1, x2, x3).\n",
    "# 2. We Iterate through this list, and for each, we try to find the best oversampler (augmentation method) out of 5-10 oversamplers.\n",
    "# 2/1. Get the 5 best oversampler for the given dataset.\n",
    "# 2/2. Try to run 5 oversampler from an array.\n",
    "# 2/3. Get columns with values\n",
    "# 2/4. Measure accuracy and score\n",
    "# 2/5. Later implement new accuracy measures?\n",
    "# 3. We run RandomForestClassifier and for each itertation, we save the rankings of the features based on importance.\n",
    "# 3.2. Upon validation we take the same subsets of the validation set!\n",
    "# 4. Write our own evaulation method: Take the rankings and select the top 3 features (and the best oversampler.)"
   ],
   "cell_type": "code",
   "metadata": {},
   "execution_count": 8,
   "outputs": []
  },
  {
   "cell_type": "code",
   "execution_count": 9,
   "metadata": {
    "tags": []
   },
   "outputs": [
    {
     "output_type": "stream",
     "name": "stdout",
     "text": [
      "('Age', 'Slope of ST', 'EKG results', 'BP')\n('Age', 'Slope of ST', 'EKG results', 'Sex')\n('Age', 'Slope of ST', 'EKG results', 'Number of vessels fluro')\n('Age', 'Slope of ST', 'BP', 'Sex')\n('Age', 'Slope of ST', 'BP', 'Number of vessels fluro')\n('Age', 'Slope of ST', 'Sex', 'Number of vessels fluro')\n('Age', 'EKG results', 'BP', 'Sex')\n('Age', 'EKG results', 'BP', 'Number of vessels fluro')\n('Age', 'EKG results', 'Sex', 'Number of vessels fluro')\n('Age', 'BP', 'Sex', 'Number of vessels fluro')\n('Slope of ST', 'EKG results', 'BP', 'Sex')\n('Slope of ST', 'EKG results', 'BP', 'Number of vessels fluro')\n('Slope of ST', 'EKG results', 'Sex', 'Number of vessels fluro')\n('Slope of ST', 'BP', 'Sex', 'Number of vessels fluro')\n('EKG results', 'BP', 'Sex', 'Number of vessels fluro')\n('Age', 'Slope of ST', 'EKG results', 'BP', 'Sex')\n('Age', 'Slope of ST', 'EKG results', 'BP', 'Number of vessels fluro')\n('Age', 'Slope of ST', 'EKG results', 'Sex', 'Number of vessels fluro')\n('Age', 'Slope of ST', 'BP', 'Sex', 'Number of vessels fluro')\n('Age', 'EKG results', 'BP', 'Sex', 'Number of vessels fluro')\n('Slope of ST', 'EKG results', 'BP', 'Sex', 'Number of vessels fluro')\n('Age', 'Slope of ST', 'EKG results', 'BP', 'Sex', 'Number of vessels fluro')\n22\n"
     ]
    }
   ],
   "source": [
    "# 1. Function which returns all the possible combinations: E.g.: For 3 features: (x1, x2), (x2, x3), (x1, x3), (x1, x2, x3).\n",
    "import itertools\n",
    "import random\n",
    "\n",
    "feature_set = df_norm.columns\n",
    "\n",
    "#Remove this line for proper results\n",
    "feature_set = random.sample(list(feature_set), 6)\n",
    "\n",
    "combinations = []\n",
    "for L in range(4, len(feature_set) + 1):\n",
    "    for subset in itertools.combinations(feature_set, L):\n",
    "        combinations.append(subset)\n",
    "        print(subset)\n",
    "print(len(combinations))"
   ]
  },
  {
   "cell_type": "code",
   "execution_count": 10,
   "metadata": {
    "tags": []
   },
   "outputs": [
    {
     "output_type": "stream",
     "name": "stdout",
     "text": [
      "Starting timer\nElapsed time:  0.0  seconds\n"
     ]
    }
   ],
   "source": [
    "# 2/1. Get the 5 best oversampler for the given dataset.\n",
    "\n",
    "from sklearn.neighbors import KNeighborsClassifier\n",
    "from sklearn.tree import DecisionTreeClassifier\n",
    "import shutil\n",
    "import smote_variants as sv\n",
    "import time\n",
    "\n",
    "start = time.time()\n",
    "print(\"Starting timer\")\n",
    "\n",
    "def handle_chace():\n",
    "    cache_path = os.path.join(os.path.expanduser('~'), 'smote_tests\\smote_test')\n",
    "    if not os.path.exists(cache_path):\n",
    "        os.makedirs(cache_path)\n",
    "    else:\n",
    "        shutil.rmtree(cache_path)\n",
    "    return cache_path\n",
    "\n",
    "best_5_oversampler = [sv._smote_variants.Borderline_SMOTE1, sv._smote_variants.SPY, sv._smote_variants.Gaussian_SMOTE, sv._smote_variants.SL_graph_SMOTE, sv._smote_variants.SMOTE_TomekLinks]\n",
    "\"\"\"\n",
    "#This procedure takes approximately 3+ minutes to continue. For the heart_disease dataset, the best 5 oversamplers are the hardcoded ones.\n",
    "\n",
    "# Selecting the top 5 oversampler\n",
    "# It is basically brute force so its computation intensive!\n",
    "oversamplers = sv.get_n_quickest_oversamplers(30)\n",
    "best_5_oversampler = []\n",
    "\n",
    "for attempt in range(0, 5):\n",
    "    cache_path = handle_chace()\n",
    "    # samp_obj and cl_obj contain the oversampling and classifier objects which give the best performance together\n",
    "    samp_obj, cl_obj = sv.model_selection(dataset= {'data': df_norm.values, 'target': y, 'name': 'heart_disease_data'},\n",
    "                                            samplers= oversamplers,\n",
    "                                            classifiers= [KNeighborsClassifier(), DecisionTreeClassifier()],\n",
    "                                            cache_path= cache_path,\n",
    "                                            n_jobs= 5,\n",
    "                                            max_samp_par_comb= 35)\n",
    "    best_5_oversampler.append(samp_obj)\n",
    "    oversamplers.remove(type(samp_obj))\n",
    "\"\"\"\n",
    "end = time.time()\n",
    "print(\"Elapsed time: \", end - start, \" seconds\")\n"
   ]
  },
  {
   "cell_type": "code",
   "execution_count": 11,
   "metadata": {},
   "outputs": [
    {
     "output_type": "execute_result",
     "data": {
      "text/plain": [
       "[smote_variants._smote_variants.Borderline_SMOTE1,\n",
       " smote_variants._smote_variants.SPY,\n",
       " smote_variants._smote_variants.Gaussian_SMOTE]"
      ]
     },
     "metadata": {},
     "execution_count": 11
    }
   ],
   "source": [
    "#best_5_oversampler = [sv._smote_variants.Borderline_SMOTE1, sv._smote_variants.SPY, sv._smote_variants.Gaussian_SMOTE, sv._smote_variants.SL_graph_SMOTE, sv._smote_variants.SMOTE_TomekLinks]\n",
    "best_5_oversampler = [sv._smote_variants.Borderline_SMOTE1, sv._smote_variants.SPY, sv._smote_variants.Gaussian_SMOTE]\n",
    "best_5_oversampler"
   ]
  },
  {
   "cell_type": "code",
   "execution_count": 13,
   "metadata": {
    "tags": [
     "outputPrepend"
    ]
   },
   "outputs": [
    {
     "output_type": "stream",
     "name": "stderr",
     "text": [
      "'random_state', None)]), 'KNeighborsClassifier', OrderedDict([('algorithm', 'auto'), ('leaf_size', 30), ('metric', 'minkowski'), ('metric_params', None), ('n_jobs', None), ('n_neighbors', 5), ('p', 2), ('weights', 'uniform')]))\", \"('heart_disease_data2', OrderedDict([('k_neighbors', 5), ('n_neighbors', 5), ('proportion', 0.5), ('random_state', None)]), 'DecisionTreeClassifier', OrderedDict([('ccp_alpha', 0.0), ('class_weight', None), ('criterion', 'gini'), ('max_depth', None), ('max_features', None), ('max_leaf_nodes', None), ('min_impurity_decrease', 0.0), ('min_impurity_split', None), ('min_samples_leaf', 1), ('min_samples_split', 2), ('min_weight_fraction_leaf', 0.0), ('random_state', None), ('splitter', 'best')]))\"]\n",
      "[\"('heart_disease_data2', OrderedDict([('n_neighbors', 7), ('proportion', 0.25), ('random_state', None), ('sigma', 2.0)]), 'KNeighborsClassifier', OrderedDict([('algorithm', 'auto'), ('leaf_size', 30), ('metric', 'minkowski'), ('metric_params', None), ('n_jobs', None), ('n_neighbors', 5), ('p', 2), ('weights', 'uniform')]))\", \"('heart_disease_data2', OrderedDict([('n_neighbors', 7), ('proportion', 0.25), ('random_state', None), ('sigma', 2.0)]), 'DecisionTreeClassifier', OrderedDict([('ccp_alpha', 0.0), ('class_weight', None), ('criterion', 'gini'), ('max_depth', None), ('max_features', None), ('max_leaf_nodes', None), ('min_impurity_decrease', 0.0), ('min_impurity_split', None), ('min_samples_leaf', 1), ('min_samples_split', 2), ('min_weight_fraction_leaf', 0.0), ('random_state', None), ('splitter', 'best')]))\"]\n",
      "[\"('heart_disease_data2', OrderedDict([('n_neighbors', 5), ('proportion', 0.25), ('random_state', None), ('sigma', 0.5)]), 'KNeighborsClassifier', OrderedDict([('algorithm', 'auto'), ('leaf_size', 30), ('metric', 'minkowski'), ('metric_params', None), ('n_jobs', None), ('n_neighbors', 5), ('p', 2), ('weights', 'uniform')]))\", \"('heart_disease_data2', OrderedDict([('n_neighbors', 5), ('proportion', 0.25), ('random_state', None), ('sigma', 0.5)]), 'DecisionTreeClassifier', OrderedDict([('ccp_alpha', 0.0), ('class_weight', None), ('criterion', 'gini'), ('max_depth', None), ('max_features', None), ('max_leaf_nodes', None), ('min_impurity_decrease', 0.0), ('min_impurity_split', None), ('min_samples_leaf', 1), ('min_samples_split', 2), ('min_weight_fraction_leaf', 0.0), ('random_state', None), ('splitter', 'best')]))\"]\n",
      "[\"('heart_disease_data2', OrderedDict([('n_neighbors', 3), ('proportion', 0.25), ('random_state', None), ('sigma', 2.0)]), 'KNeighborsClassifier', OrderedDict([('algorithm', 'auto'), ('leaf_size', 30), ('metric', 'minkowski'), ('metric_params', None), ('n_jobs', None), ('n_neighbors', 5), ('p', 2), ('weights', 'uniform')]))\", \"('heart_disease_data2', OrderedDict([('n_neighbors', 3), ('proportion', 0.25), ('random_state', None), ('sigma', 2.0)]), 'DecisionTreeClassifier', OrderedDict([('ccp_alpha', 0.0), ('class_weight', None), ('criterion', 'gini'), ('max_depth', None), ('max_features', None), ('max_leaf_nodes', None), ('min_impurity_decrease', 0.0), ('min_impurity_split', None), ('min_samples_leaf', 1), ('min_samples_split', 2), ('min_weight_fraction_leaf', 0.0), ('random_state', None), ('splitter', 'best')]))\"]\n",
      "[\"('heart_disease_data2', OrderedDict([('n_neighbors', 7), ('proportion', 0.25), ('random_state', None), ('sigma', 0.5)]), 'KNeighborsClassifier', OrderedDict([('algorithm', 'auto'), ('leaf_size', 30), ('metric', 'minkowski'), ('metric_params', None), ('n_jobs', None), ('n_neighbors', 5), ('p', 2), ('weights', 'uniform')]))\", \"('heart_disease_data2', OrderedDict([('n_neighbors', 7), ('proportion', 0.25), ('random_state', None), ('sigma', 0.5)]), 'DecisionTreeClassifier', OrderedDict([('ccp_alpha', 0.0), ('class_weight', None), ('criterion', 'gini'), ('max_depth', None), ('max_features', None), ('max_leaf_nodes', None), ('min_impurity_decrease', 0.0), ('min_impurity_split', None), ('min_samples_leaf', 1), ('min_samples_split', 2), ('min_weight_fraction_leaf', 0.0), ('random_state', None), ('splitter', 'best')]))\"]\n",
      "[\"('heart_disease_data2', OrderedDict([('n_neighbors', 5), ('proportion', 0.25), ('random_state', None), ('sigma', 2.0)]), 'KNeighborsClassifier', OrderedDict([('algorithm', 'auto'), ('leaf_size', 30), ('metric', 'minkowski'), ('metric_params', None), ('n_jobs', None), ('n_neighbors', 5), ('p', 2), ('weights', 'uniform')]))\", \"('heart_disease_data2', OrderedDict([('n_neighbors', 5), ('proportion', 0.25), ('random_state', None), ('sigma', 2.0)]), 'DecisionTreeClassifier', OrderedDict([('ccp_alpha', 0.0), ('class_weight', None), ('criterion', 'gini'), ('max_depth', None), ('max_features', None), ('max_leaf_nodes', None), ('min_impurity_decrease', 0.0), ('min_impurity_split', None), ('min_samples_leaf', 1), ('min_samples_split', 2), ('min_weight_fraction_leaf', 0.0), ('random_state', None), ('splitter', 'best')]))\"]\n",
      "[\"('heart_disease_data2', OrderedDict([('k_neighbors', 3), ('n_neighbors', 7), ('proportion', 0.25), ('random_state', None)]), 'KNeighborsClassifier', OrderedDict([('algorithm', 'auto'), ('leaf_size', 30), ('metric', 'minkowski'), ('metric_params', None), ('n_jobs', None), ('n_neighbors', 5), ('p', 2), ('weights', 'uniform')]))\", \"('heart_disease_data2', OrderedDict([('k_neighbors', 3), ('n_neighbors', 7), ('proportion', 0.25), ('random_state', None)]), 'DecisionTreeClassifier', OrderedDict([('ccp_alpha', 0.0), ('class_weight', None), ('criterion', 'gini'), ('max_depth', None), ('max_features', None), ('max_leaf_nodes', None), ('min_impurity_decrease', 0.0), ('min_impurity_split', None), ('min_samples_leaf', 1), ('min_samples_split', 2), ('min_weight_fraction_leaf', 0.0), ('random_state', None), ('splitter', 'best')]))\"]\n",
      "[\"('heart_disease_data2', OrderedDict([('k_neighbors', 3), ('n_neighbors', 3), ('proportion', 0.25), ('random_state', None)]), 'KNeighborsClassifier', OrderedDict([('algorithm', 'auto'), ('leaf_size', 30), ('metric', 'minkowski'), ('metric_params', None), ('n_jobs', None), ('n_neighbors', 5), ('p', 2), ('weights', 'uniform')]))\", \"('heart_disease_data2', OrderedDict([('k_neighbors', 3), ('n_neighbors', 3), ('proportion', 0.25), ('random_state', None)]), 'DecisionTreeClassifier', OrderedDict([('ccp_alpha', 0.0), ('class_weight', None), ('criterion', 'gini'), ('max_depth', None), ('max_features', None), ('max_leaf_nodes', None), ('min_impurity_decrease', 0.0), ('min_impurity_split', None), ('min_samples_leaf', 1), ('min_samples_split', 2), ('min_weight_fraction_leaf', 0.0), ('random_state', None), ('splitter', 'best')]))\"]\n",
      "[\"('heart_disease_data2', OrderedDict([('k_neighbors', 5), ('n_neighbors', 7), ('proportion', 0.25), ('random_state', None)]), 'KNeighborsClassifier', OrderedDict([('algorithm', 'auto'), ('leaf_size', 30), ('metric', 'minkowski'), ('metric_params', None), ('n_jobs', None), ('n_neighbors', 5), ('p', 2), ('weights', 'uniform')]))\", \"('heart_disease_data2', OrderedDict([('k_neighbors', 5), ('n_neighbors', 7), ('proportion', 0.25), ('random_state', None)]), 'DecisionTreeClassifier', OrderedDict([('ccp_alpha', 0.0), ('class_weight', None), ('criterion', 'gini'), ('max_depth', None), ('max_features', None), ('max_leaf_nodes', None), ('min_impurity_decrease', 0.0), ('min_impurity_split', None), ('min_samples_leaf', 1), ('min_samples_split', 2), ('min_weight_fraction_leaf', 0.0), ('random_state', None), ('splitter', 'best')]))\"]\n",
      "[\"('heart_disease_data2', OrderedDict([('k_neighbors', 5), ('n_neighbors', 5), ('proportion', 0.25), ('random_state', None)]), 'KNeighborsClassifier', OrderedDict([('algorithm', 'auto'), ('leaf_size', 30), ('metric', 'minkowski'), ('metric_params', None), ('n_jobs', None), ('n_neighbors', 5), ('p', 2), ('weights', 'uniform')]))\", \"('heart_disease_data2', OrderedDict([('k_neighbors', 5), ('n_neighbors', 5), ('proportion', 0.25), ('random_state', None)]), 'DecisionTreeClassifier', OrderedDict([('ccp_alpha', 0.0), ('class_weight', None), ('criterion', 'gini'), ('max_depth', None), ('max_features', None), ('max_leaf_nodes', None), ('min_impurity_decrease', 0.0), ('min_impurity_split', None), ('min_samples_leaf', 1), ('min_samples_split', 2), ('min_weight_fraction_leaf', 0.0), ('random_state', None), ('splitter', 'best')]))\"]\n",
      "[\"('heart_disease_data2', OrderedDict([('k_neighbors', 7), ('n_neighbors', 3), ('proportion', 0.25), ('random_state', None)]), 'KNeighborsClassifier', OrderedDict([('algorithm', 'auto'), ('leaf_size', 30), ('metric', 'minkowski'), ('metric_params', None), ('n_jobs', None), ('n_neighbors', 5), ('p', 2), ('weights', 'uniform')]))\", \"('heart_disease_data2', OrderedDict([('k_neighbors', 7), ('n_neighbors', 3), ('proportion', 0.25), ('random_state', None)]), 'DecisionTreeClassifier', OrderedDict([('ccp_alpha', 0.0), ('class_weight', None), ('criterion', 'gini'), ('max_depth', None), ('max_features', None), ('max_leaf_nodes', None), ('min_impurity_decrease', 0.0), ('min_impurity_split', None), ('min_samples_leaf', 1), ('min_samples_split', 2), ('min_weight_fraction_leaf', 0.0), ('random_state', None), ('splitter', 'best')]))\"]\n",
      "[\"('heart_disease_data2', OrderedDict([('k_neighbors', 5), ('n_neighbors', 3), ('proportion', 0.25), ('random_state', None)]), 'KNeighborsClassifier', OrderedDict([('algorithm', 'auto'), ('leaf_size', 30), ('metric', 'minkowski'), ('metric_params', None), ('n_jobs', None), ('n_neighbors', 5), ('p', 2), ('weights', 'uniform')]))\", \"('heart_disease_data2', OrderedDict([('k_neighbors', 5), ('n_neighbors', 3), ('proportion', 0.25), ('random_state', None)]), 'DecisionTreeClassifier', OrderedDict([('ccp_alpha', 0.0), ('class_weight', None), ('criterion', 'gini'), ('max_depth', None), ('max_features', None), ('max_leaf_nodes', None), ('min_impurity_decrease', 0.0), ('min_impurity_split', None), ('min_samples_leaf', 1), ('min_samples_split', 2), ('min_weight_fraction_leaf', 0.0), ('random_state', None), ('splitter', 'best')]))\"]\n",
      "[\"('heart_disease_data2', OrderedDict([('k_neighbors', 3), ('n_neighbors', 5), ('proportion', 0.25), ('random_state', None)]), 'KNeighborsClassifier', OrderedDict([('algorithm', 'auto'), ('leaf_size', 30), ('metric', 'minkowski'), ('metric_params', None), ('n_jobs', None), ('n_neighbors', 5), ('p', 2), ('weights', 'uniform')]))\", \"('heart_disease_data2', OrderedDict([('k_neighbors', 3), ('n_neighbors', 5), ('proportion', 0.25), ('random_state', None)]), 'DecisionTreeClassifier', OrderedDict([('ccp_alpha', 0.0), ('class_weight', None), ('criterion', 'gini'), ('max_depth', None), ('max_features', None), ('max_leaf_nodes', None), ('min_impurity_decrease', 0.0), ('min_impurity_split', None), ('min_samples_leaf', 1), ('min_samples_split', 2), ('min_weight_fraction_leaf', 0.0), ('random_state', None), ('splitter', 'best')]))\"]\n",
      "[\"('heart_disease_data2', OrderedDict([('n_neighbors', 7), ('proportion', 0.1), ('random_state', None), ('sigma', 1.0)]), 'KNeighborsClassifier', OrderedDict([('algorithm', 'auto'), ('leaf_size', 30), ('metric', 'minkowski'), ('metric_params', None), ('n_jobs', None), ('n_neighbors', 5), ('p', 2), ('weights', 'uniform')]))\", \"('heart_disease_data2', OrderedDict([('n_neighbors', 7), ('proportion', 0.1), ('random_state', None), ('sigma', 1.0)]), 'DecisionTreeClassifier', OrderedDict([('ccp_alpha', 0.0), ('class_weight', None), ('criterion', 'gini'), ('max_depth', None), ('max_features', None), ('max_leaf_nodes', None), ('min_impurity_decrease', 0.0), ('min_impurity_split', None), ('min_samples_leaf', 1), ('min_samples_split', 2), ('min_weight_fraction_leaf', 0.0), ('random_state', None), ('splitter', 'best')]))\"]\n",
      "[\"('heart_disease_data2', OrderedDict([('n_neighbors', 5), ('proportion', 0.1), ('random_state', None), ('sigma', 2.0)]), 'KNeighborsClassifier', OrderedDict([('algorithm', 'auto'), ('leaf_size', 30), ('metric', 'minkowski'), ('metric_params', None), ('n_jobs', None), ('n_neighbors', 5), ('p', 2), ('weights', 'uniform')]))\", \"('heart_disease_data2', OrderedDict([('n_neighbors', 5), ('proportion', 0.1), ('random_state', None), ('sigma', 2.0)]), 'DecisionTreeClassifier', OrderedDict([('ccp_alpha', 0.0), ('class_weight', None), ('criterion', 'gini'), ('max_depth', None), ('max_features', None), ('max_leaf_nodes', None), ('min_impurity_decrease', 0.0), ('min_impurity_split', None), ('min_samples_leaf', 1), ('min_samples_split', 2), ('min_weight_fraction_leaf', 0.0), ('random_state', None), ('splitter', 'best')]))\"]\n",
      "[\"('heart_disease_data2', OrderedDict([('n_neighbors', 3), ('proportion', 0.1), ('random_state', None), ('sigma', 1.0)]), 'KNeighborsClassifier', OrderedDict([('algorithm', 'auto'), ('leaf_size', 30), ('metric', 'minkowski'), ('metric_params', None), ('n_jobs', None), ('n_neighbors', 5), ('p', 2), ('weights', 'uniform')]))\", \"('heart_disease_data2', OrderedDict([('n_neighbors', 3), ('proportion', 0.1), ('random_state', None), ('sigma', 1.0)]), 'DecisionTreeClassifier', OrderedDict([('ccp_alpha', 0.0), ('class_weight', None), ('criterion', 'gini'), ('max_depth', None), ('max_features', None), ('max_leaf_nodes', None), ('min_impurity_decrease', 0.0), ('min_impurity_split', None), ('min_samples_leaf', 1), ('min_samples_split', 2), ('min_weight_fraction_leaf', 0.0), ('random_state', None), ('splitter', 'best')]))\"]\n",
      "[\"('heart_disease_data2', OrderedDict([('n_neighbors', 5), ('proportion', 0.1), ('random_state', None), ('sigma', 0.5)]), 'KNeighborsClassifier', OrderedDict([('algorithm', 'auto'), ('leaf_size', 30), ('metric', 'minkowski'), ('metric_params', None), ('n_jobs', None), ('n_neighbors', 5), ('p', 2), ('weights', 'uniform')]))\", \"('heart_disease_data2', OrderedDict([('n_neighbors', 5), ('proportion', 0.1), ('random_state', None), ('sigma', 0.5)]), 'DecisionTreeClassifier', OrderedDict([('ccp_alpha', 0.0), ('class_weight', None), ('criterion', 'gini'), ('max_depth', None), ('max_features', None), ('max_leaf_nodes', None), ('min_impurity_decrease', 0.0), ('min_impurity_split', None), ('min_samples_leaf', 1), ('min_samples_split', 2), ('min_weight_fraction_leaf', 0.0), ('random_state', None), ('splitter', 'best')]))\"]\n",
      "[\"('heart_disease_data2', OrderedDict([('k_neighbors', 3), ('n_neighbors', 7), ('proportion', 0.1), ('random_state', None)]), 'KNeighborsClassifier', OrderedDict([('algorithm', 'auto'), ('leaf_size', 30), ('metric', 'minkowski'), ('metric_params', None), ('n_jobs', None), ('n_neighbors', 5), ('p', 2), ('weights', 'uniform')]))\", \"('heart_disease_data2', OrderedDict([('k_neighbors', 3), ('n_neighbors', 7), ('proportion', 0.1), ('random_state', None)]), 'DecisionTreeClassifier', OrderedDict([('ccp_alpha', 0.0), ('class_weight', None), ('criterion', 'gini'), ('max_depth', None), ('max_features', None), ('max_leaf_nodes', None), ('min_impurity_decrease', 0.0), ('min_impurity_split', None), ('min_samples_leaf', 1), ('min_samples_split', 2), ('min_weight_fraction_leaf', 0.0), ('random_state', None), ('splitter', 'best')]))\"]\n",
      "[\"('heart_disease_data2', OrderedDict([('k_neighbors', 3), ('n_neighbors', 5), ('proportion', 0.1), ('random_state', None)]), 'KNeighborsClassifier', OrderedDict([('algorithm', 'auto'), ('leaf_size', 30), ('metric', 'minkowski'), ('metric_params', None), ('n_jobs', None), ('n_neighbors', 5), ('p', 2), ('weights', 'uniform')]))\", \"('heart_disease_data2', OrderedDict([('k_neighbors', 3), ('n_neighbors', 5), ('proportion', 0.1), ('random_state', None)]), 'DecisionTreeClassifier', OrderedDict([('ccp_alpha', 0.0), ('class_weight', None), ('criterion', 'gini'), ('max_depth', None), ('max_features', None), ('max_leaf_nodes', None), ('min_impurity_decrease', 0.0), ('min_impurity_split', None), ('min_samples_leaf', 1), ('min_samples_split', 2), ('min_weight_fraction_leaf', 0.0), ('random_state', None), ('splitter', 'best')]))\"]\n",
      "[\"('heart_disease_data2', OrderedDict([('k_neighbors', 3), ('n_neighbors', 3), ('proportion', 0.1), ('random_state', None)]), 'KNeighborsClassifier', OrderedDict([('algorithm', 'auto'), ('leaf_size', 30), ('metric', 'minkowski'), ('metric_params', None), ('n_jobs', None), ('n_neighbors', 5), ('p', 2), ('weights', 'uniform')]))\", \"('heart_disease_data2', OrderedDict([('k_neighbors', 3), ('n_neighbors', 3), ('proportion', 0.1), ('random_state', None)]), 'DecisionTreeClassifier', OrderedDict([('ccp_alpha', 0.0), ('class_weight', None), ('criterion', 'gini'), ('max_depth', None), ('max_features', None), ('max_leaf_nodes', None), ('min_impurity_decrease', 0.0), ('min_impurity_split', None), ('min_samples_leaf', 1), ('min_samples_split', 2), ('min_weight_fraction_leaf', 0.0), ('random_state', None), ('splitter', 'best')]))\"]\n",
      "[\"('heart_disease_data2', OrderedDict([('k_neighbors', 7), ('n_neighbors', 7), ('proportion', 0.1), ('random_state', None)]), 'KNeighborsClassifier', OrderedDict([('algorithm', 'auto'), ('leaf_size', 30), ('metric', 'minkowski'), ('metric_params', None), ('n_jobs', None), ('n_neighbors', 5), ('p', 2), ('weights', 'uniform')]))\", \"('heart_disease_data2', OrderedDict([('k_neighbors', 7), ('n_neighbors', 7), ('proportion', 0.1), ('random_state', None)]), 'DecisionTreeClassifier', OrderedDict([('ccp_alpha', 0.0), ('class_weight', None), ('criterion', 'gini'), ('max_depth', None), ('max_features', None), ('max_leaf_nodes', None), ('min_impurity_decrease', 0.0), ('min_impurity_split', None), ('min_samples_leaf', 1), ('min_samples_split', 2), ('min_weight_fraction_leaf', 0.0), ('random_state', None), ('splitter', 'best')]))\"]\n",
      "[\"('heart_disease_data2', OrderedDict([('k_neighbors', 5), ('n_neighbors', 5), ('proportion', 0.1), ('random_state', None)]), 'KNeighborsClassifier', OrderedDict([('algorithm', 'auto'), ('leaf_size', 30), ('metric', 'minkowski'), ('metric_params', None), ('n_jobs', None), ('n_neighbors', 5), ('p', 2), ('weights', 'uniform')]))\", \"('heart_disease_data2', OrderedDict([('k_neighbors', 5), ('n_neighbors', 5), ('proportion', 0.1), ('random_state', None)]), 'DecisionTreeClassifier', OrderedDict([('ccp_alpha', 0.0), ('class_weight', None), ('criterion', 'gini'), ('max_depth', None), ('max_features', None), ('max_leaf_nodes', None), ('min_impurity_decrease', 0.0), ('min_impurity_split', None), ('min_samples_leaf', 1), ('min_samples_split', 2), ('min_weight_fraction_leaf', 0.0), ('random_state', None), ('splitter', 'best')]))\"]\n",
      "2021-05-03 14:06:35,402:INFO:concatenating the results\n",
      "2021-05-03 14:06:35,586:INFO:aggregating the results\n",
      "2021-05-03 14:06:35,638:INFO:Gaussian_SMOTE: Running sampling via ('Gaussian_SMOTE', \"{'proportion': 0.75, 'n_neighbors': 7, 'sigma': 1.0, 'n_jobs': 1, 'random_state': None}\")\n",
      "202  -  215\n",
      "[{'combination': ('Age', 'Slope of ST', 'BP', 'Sex'),\n",
      "  'feature_importance': array([0.34282135, 0.27727469, 0.19343154, 0.18647243]),\n",
      "  'original_feature_importance': array([0.40550157, 0.16835039, 0.31219928, 0.11394876]),\n",
      "  'original_score': 0.603,\n",
      "  'sampler': <class 'smote_variants._smote_variants.SPY'>,\n",
      "  'score': 0.632},\n",
      " {'combination': ('Slope of ST', 'EKG results', 'BP', 'Sex'),\n",
      "  'feature_importance': array([0.25626661, 0.09025884, 0.48805508, 0.16541947]),\n",
      "  'original_feature_importance': array([0.23386101, 0.0709091 , 0.55722366, 0.13800623]),\n",
      "  'original_score': 0.588,\n",
      "  'sampler': <class 'smote_variants._smote_variants.Gaussian_SMOTE'>,\n",
      "  'score': 0.618},\n",
      " {'combination': ('Slope of ST', 'BP', 'Sex', 'Number of vessels fluro'),\n",
      "  'feature_importance': array([0.22195523, 0.34013034, 0.12150482, 0.31640961]),\n",
      "  'original_feature_importance': array([0.1779564 , 0.41224689, 0.10998122, 0.29981549]),\n",
      "  'original_score': 0.75,\n",
      "  'sampler': <class 'smote_variants._smote_variants.SPY'>,\n",
      "  'score': 0.794},\n",
      " {'combination': ('Age',\n",
      "                  'Slope of ST',\n",
      "                  'EKG results',\n",
      "                  'BP',\n",
      "                  'Number of vessels fluro'),\n",
      "  'feature_importance': array([0.24666172, 0.16718559, 0.03625471, 0.24043686, 0.30946112]),\n",
      "  'original_feature_importance': array([0.3272951 , 0.1516549 , 0.0395603 , 0.25100903, 0.23048067]),\n",
      "  'original_score': 0.691,\n",
      "  'sampler': <class 'smote_variants._smote_variants.SPY'>,\n",
      "  'score': 0.721}]\n",
      "Elapsed time:  112.28006887435913  seconds, which is:  1.871334481239319  minutes\n"
     ]
    }
   ],
   "source": [
    "# For each of the substes we try to find the best oversampler (out of the top 5)\n",
    "# 2/2. Try to run 5 oversampler from an array.\n",
    "# 2/3. Get columns with values\n",
    "\n",
    "from sklearn.neighbors import KNeighborsClassifier\n",
    "from sklearn.tree import DecisionTreeClassifier\n",
    "from sklearn.model_selection import train_test_split\n",
    "import shutil\n",
    "import smote_variants as sv\n",
    "import time\n",
    "import pprint\n",
    "\n",
    "start = time.time()\n",
    "\n",
    "# *Option 1*: For every combination, i check which one is the best classifier out of the 5, and rank the importances (set: best rank 1, worst: n)\n",
    "# Option 2: For every oversampler (5) i run all the combinations, and rank the importances (set: best rank 1, worst: n)\n",
    "output = []\n",
    "for combination in combinations:\n",
    "    cache_path = handle_chace()\n",
    "\n",
    "    X_train, X_test, y_train, y_test = train_test_split(df_norm[list(combination)].values, y, test_size= 0.25, random_state= 0)\n",
    "    \n",
    "    clf = RandomForestClassifier()\n",
    "    clf.fit(X_train, y_train)\n",
    "\n",
    "    original_score = clf.score(X_test, y_test)\n",
    "    #cross_val_score(clf, X_test, y_test, scoring= 'accuracy', cv= RepeatedStratifiedKFold(n_splits= 5, n_repeats= 3, random_state= 1), n_jobs= -1)\n",
    "    original_feature_importance = clf.feature_importances_\n",
    "\n",
    "\n",
    "    dataset= {'data': X_train, 'target': y_train, 'name': 'heart_disease_data2'}\n",
    "    samp_obj, cl_obj = sv.model_selection(dataset= dataset,\n",
    "                                samplers= best_5_oversampler,\n",
    "                                classifiers= [KNeighborsClassifier(), DecisionTreeClassifier()],\n",
    "                                cache_path= cache_path,\n",
    "                                n_jobs= 5,\n",
    "                                max_samp_par_comb= 35)\n",
    "\n",
    "    X_samp, y_samp = samp_obj.sample(dataset['data'], dataset['target'])\n",
    "    print(len(X_train), \" - \", len(X_samp))\n",
    "\n",
    "    clf = RandomForestClassifier()\n",
    "    clf.fit(X_samp, y_samp)\n",
    "    score = clf.score(X_test, y_test)\n",
    "    #cross_val_score(clf, X_test, y_test, scoring= 'accuracy', cv= RepeatedStratifiedKFold(n_splits= 5, n_repeats= 3, random_state= 1), n_jobs= -1)\n",
    "\n",
    "    feature_importance = clf.feature_importances_\n",
    "\n",
    "    #TODO delta = set by the user, minimum differece between the two sets\n",
    "    delta = 0.02\n",
    "    if round(original_score, 5) + delta < round(score, 5):\n",
    "        output.append(\n",
    "            {\n",
    "                \"combination\" : combination, \n",
    "                \"sampler\": type(samp_obj),\n",
    "                \"original_feature_importance\": original_feature_importance,\n",
    "                \"feature_importance\": feature_importance,\n",
    "                \"original_score\": round(original_score, 3),\n",
    "                \"score\": round(score, 3)\n",
    "            })\n",
    "pprint.pprint(output)\n",
    "\n",
    "end = time.time()\n",
    "print(\"Elapsed time: \", end - start, \" seconds, which is: \", (end - start) / 60, \" minutes\")"
   ]
  },
  {
   "cell_type": "code",
   "execution_count": 94,
   "metadata": {},
   "outputs": [
    {
     "output_type": "stream",
     "name": "stdout",
     "text": [
      "{'Age': {'accuracy_score': 5, 'feature_appearance': 2, 'importance_score': 11},\n 'BP': {'accuracy_score': 12, 'feature_appearance': 4, 'importance_score': 20},\n 'Chest pain type': {'accuracy_score': 0,\n                     'feature_appearance': 0,\n                     'importance_score': 0},\n 'Cholesterol': {'accuracy_score': 0,\n                 'feature_appearance': 0,\n                 'importance_score': 0},\n 'EKG results': {'accuracy_score': 6,\n                 'feature_appearance': 2,\n                 'importance_score': 3},\n 'Exercise angina': {'accuracy_score': 0,\n                     'feature_appearance': 0,\n                     'importance_score': 0},\n 'FBS over 120': {'accuracy_score': 0,\n                  'feature_appearance': 0,\n                  'importance_score': 0},\n 'Max HR': {'accuracy_score': 0,\n            'feature_appearance': 0,\n            'importance_score': 0},\n 'Number of vessels fluro': {'accuracy_score': 7,\n                             'feature_appearance': 2,\n                             'importance_score': 9},\n 'ST depression': {'accuracy_score': 0,\n                   'feature_appearance': 0,\n                   'importance_score': 0},\n 'Sex': {'accuracy_score': 9, 'feature_appearance': 3, 'importance_score': 7},\n 'Slope of ST': {'accuracy_score': 12,\n                 'feature_appearance': 4,\n                 'importance_score': 13},\n 'Thallium': {'accuracy_score': 0,\n              'feature_appearance': 0,\n              'importance_score': 0}}\n"
     ]
    }
   ],
   "source": [
    "# 2/4. Measure accuracy and score\n",
    "\n",
    "#TODO: Draw an evaulation method based on the following: Take into account the occurence of a feature, It's ranking each time, it's importance each time, the accuracy of the model\n",
    "#In the end, compare: the very first simple oversampled scores, and the augmented scores after feature selection with this method\n",
    "\n",
    "# Creates dict() with empty array for each feature\n",
    "scores = { feature_name : { \"accuracy_score\" : 0, \"importance_score\" : 0, \"feature_appearance\" : 0 } for feature_name in df_norm.columns }\n",
    "# Creates dict() with every sampler used, initialized with 0 value for counting\n",
    "model_counter = { model_name : 0 for model_name in best_5_oversampler }\n",
    "    \n",
    "def eval_score(original_score, new_score):\n",
    "    diff = new_score - original_score\n",
    "    if diff > 0.05:\n",
    "        return 5\n",
    "    elif diff > 0.04:\n",
    "        return 4\n",
    "    elif diff > 0.03:\n",
    "        return 3\n",
    "    elif diff > 0.02:\n",
    "        return 2\n",
    "    elif diff > 0.01:\n",
    "        return 1\n",
    "    \"\"\" note: there is the other if condition, filtering negative results, if removed, we can add penalties for worse results.\n",
    "    elif diff < 0.01:\n",
    "        return -1\n",
    "    \"\"\"\n",
    "\n",
    "    \n",
    "def calculate_importance_rank(input):\n",
    "  arr = {}\n",
    "  rank = len(input)\n",
    "  #print(np.around(input, 3))\n",
    "  for num in sorted(input):\n",
    "    if num not in arr:\n",
    "      arr[num] = rank\n",
    "      rank = rank - 1\n",
    "  return [arr[i] for i in input]\n",
    "\n",
    "def get_rank_of_feature(feature, combination, combination_importances):\n",
    "    ranks = calculate_importance_rank(combination_importances)\n",
    "    return ranks[combination.index(feature)]\n",
    "\n",
    "def eval_importance(original_rank_of_feature, new_rank_of_feature):\n",
    "    # Add scores to each feature regarding the rankings\n",
    "    if original_rank_of_feature < new_rank_of_feature:\n",
    "        if new_rank_of_feature == 1:\n",
    "            return 5+2\n",
    "        elif new_rank_of_feature == 2:\n",
    "            return 4+2\n",
    "        elif new_rank_of_feature == 3:\n",
    "            return 3+2\n",
    "        elif new_rank_of_feature == 4:\n",
    "            return 2+2\n",
    "        elif new_rank_of_feature == 5:\n",
    "            return 1+2\n",
    "    else:\n",
    "        if new_rank_of_feature == 1:\n",
    "            return 5\n",
    "        elif new_rank_of_feature == 2:\n",
    "            return 4\n",
    "        elif new_rank_of_feature == 3:\n",
    "            return 3\n",
    "        elif new_rank_of_feature == 4:\n",
    "            return 2\n",
    "        elif new_rank_of_feature == 5:\n",
    "            return 1\n",
    "    return 0\n",
    "\n",
    "def evaulation(results):\n",
    "    for result in results:\n",
    "        model_counter[result[\"sampler\"]] += 1\n",
    "        for feature in list(result[\"combination\"]):\n",
    "            scores[feature][\"feature_appearance\"] += 1\n",
    "\n",
    "            scores[feature][\"accuracy_score\"] += eval_score(result[\"original_score\"], result[\"score\"])\n",
    "            \n",
    "            original_rank_of_feature = get_rank_of_feature(feature, result[\"combination\"], result[\"original_feature_importance\"])\n",
    "            new_rank_of_feature = get_rank_of_feature(feature, result[\"combination\"], result[\"feature_importance\"])\n",
    "            scores[feature][\"importance_score\"] += eval_importance(original_rank_of_feature, new_rank_of_feature)\n",
    "\n",
    "    pprint.pprint(scores)\n",
    "\n",
    "\n",
    "evaulation(output)"
   ]
  },
  {
   "cell_type": "code",
   "execution_count": 41,
   "metadata": {},
   "outputs": [
    {
     "output_type": "execute_result",
     "data": {
      "text/plain": [
       "\"\\n[{'combination': ('Cholesterol',\\n                  'Number of vessels fluro',\\n                  'Max HR',\\n                  'EKG results'),\\n  'feature_importance': array([0.32449936, 0.23734313, 0.39282751, 0.04533   ]),\\n  'original_feature_importance': array([0.32451913, 0.2347048 , 0.39415311, 0.04662296]),\\n  'original_score': 0.6617647058823529,\\n  'sampler': <class 'smote_variants._smote_variants.Borderline_SMOTE1'>,\\n  'score': 0.6911764705882353},\\n {'combination': ('Cholesterol',\\n                  'Number of vessels fluro',\\n                  'BP',\\n                  'EKG results'),\\n  'feature_importance': array([0.41515951, 0.24347137, 0.29461296, 0.04675617]),\\n  'original_feature_importance': array([0.41282495, 0.26448017, 0.27747918, 0.04521571]),\\n  'original_score': 0.6323529411764706,\\n  'sampler': <class 'smote_variants._smote_variants.Borderline_SMOTE1'>,\\n  'score': 0.6617647058823529},\\n {'combination': ('Cholesterol', 'BP', 'EKG results', 'Age'),\\n  'feature_importance': array([0.3590297 , 0.25088046, 0.04834042, 0.34174942]),\\n  'original_feature_importance': array([0.37262486, 0.24379154, 0.05471911, 0.32886448]),\\n  'original_score': 0.5441176470588235,\\n  'sampler': <class 'smote_variants._smote_variants.Borderline_SMOTE1'>,\\n  'score': 0.5735294117647058},\\n {'combination': ('Cholesterol',\\n                  'Number of vessels fluro',\\n                  'Max HR',\\n                  'BP',\\n                  'Age'),\\n  'feature_importance': array([0.19281611, 0.18608848, 0.26819943, 0.14842081, 0.20447517]),\\n  'original_feature_importance': array([0.18316729, 0.19204859, 0.28505088, 0.13652708, 0.20320616]),\\n  'original_score': 0.6470588235294118,\\n  'sampler': <class 'smote_variants._smote_variants.Borderline_SMOTE1'>,\\n  'score': 0.6764705882352942},\\n {'combination': ('Cholesterol',\\n                  'Number of vessels fluro',\\n                  'BP',\\n                  'EKG results',\\n                  'Age'),\\n  'feature_importance': array([0.27816127, 0.21461498, 0.19773347, 0.04411246, 0.26537782]),\\n  'original_feature_importance': array([0.26982414, 0.23643601, 0.18661623, 0.04343062, 0.263693  ]),\\n  'original_score': 0.6470588235294118,\\n  'sampler': <class 'smote_variants._smote_variants.Borderline_SMOTE1'>,\\n  'score': 0.6911764705882353}]\\n  \""
      ]
     },
     "metadata": {},
     "execution_count": 41
    }
   ],
   "source": [
    "\"\"\"\n",
    "[{'combination': ('Cholesterol',\n",
    "                  'Number of vessels fluro',\n",
    "                  'Max HR',\n",
    "                  'EKG results'),\n",
    "  'feature_importance': array([0.32449936, 0.23734313, 0.39282751, 0.04533   ]),\n",
    "  'original_feature_importance': array([0.32451913, 0.2347048 , 0.39415311, 0.04662296]),\n",
    "  'original_score': 0.6617647058823529,\n",
    "  'sampler': <class 'smote_variants._smote_variants.Borderline_SMOTE1'>,\n",
    "  'score': 0.6911764705882353},\n",
    " {'combination': ('Cholesterol',\n",
    "                  'Number of vessels fluro',\n",
    "                  'BP',\n",
    "                  'EKG results'),\n",
    "  'feature_importance': array([0.41515951, 0.24347137, 0.29461296, 0.04675617]),\n",
    "  'original_feature_importance': array([0.41282495, 0.26448017, 0.27747918, 0.04521571]),\n",
    "  'original_score': 0.6323529411764706,\n",
    "  'sampler': <class 'smote_variants._smote_variants.Borderline_SMOTE1'>,\n",
    "  'score': 0.6617647058823529},\n",
    " {'combination': ('Cholesterol', 'BP', 'EKG results', 'Age'),\n",
    "  'feature_importance': array([0.3590297 , 0.25088046, 0.04834042, 0.34174942]),\n",
    "  'original_feature_importance': array([0.37262486, 0.24379154, 0.05471911, 0.32886448]),\n",
    "  'original_score': 0.5441176470588235,\n",
    "  'sampler': <class 'smote_variants._smote_variants.Borderline_SMOTE1'>,\n",
    "  'score': 0.5735294117647058},\n",
    " {'combination': ('Cholesterol',\n",
    "                  'Number of vessels fluro',\n",
    "                  'Max HR',\n",
    "                  'BP',\n",
    "                  'Age'),\n",
    "  'feature_importance': array([0.19281611, 0.18608848, 0.26819943, 0.14842081, 0.20447517]),\n",
    "  'original_feature_importance': array([0.18316729, 0.19204859, 0.28505088, 0.13652708, 0.20320616]),\n",
    "  'original_score': 0.6470588235294118,\n",
    "  'sampler': <class 'smote_variants._smote_variants.Borderline_SMOTE1'>,\n",
    "  'score': 0.6764705882352942},\n",
    " {'combination': ('Cholesterol',\n",
    "                  'Number of vessels fluro',\n",
    "                  'BP',\n",
    "                  'EKG results',\n",
    "                  'Age'),\n",
    "  'feature_importance': array([0.27816127, 0.21461498, 0.19773347, 0.04411246, 0.26537782]),\n",
    "  'original_feature_importance': array([0.26982414, 0.23643601, 0.18661623, 0.04343062, 0.263693  ]),\n",
    "  'original_score': 0.6470588235294118,\n",
    "  'sampler': <class 'smote_variants._smote_variants.Borderline_SMOTE1'>,\n",
    "  'score': 0.6911764705882353}]\n",
    "  \"\"\""
   ]
  }
 ]
}